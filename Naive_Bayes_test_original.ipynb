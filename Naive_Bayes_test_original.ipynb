{
 "cells": [
  {
   "cell_type": "code",
   "execution_count": null,
   "metadata": {},
   "outputs": [],
   "source": [
    "import pandas as pd\n",
    "from sklearn.neighbors import KNeighborsClassifier\n",
    "from sklearn.model_selection import train_test_split\n",
    "from sklearn.metrics import accuracy_score\n",
    "\n",
    "# Load dữ liệu từ file CSV\n",
    "data = pd.read_csv(\"mnist_train.csv\")\n",
    "\n",
    "test_dt = pd.read_csv(\"mnist_test.csv\")\n",
    "\n",
    "# Tách features (X) và nhãn (y)\n",
    "X_train = data.drop('label', axis=1)\n",
    "y_train = data['label']\n",
    "\n",
    "X_test = test_dt.drop('label', axis=1)\n",
    "y_test = test_dt['label']\n",
    "\n",
    "# # Chia tập dữ liệu thành tập huấn luyện và tập kiểm thử\n",
    "# X_train, X_test, y_train, y_test = train_test_split(X, y, test_size=0.2, random_state=42)\n",
    "\n",
    "# Xây dựng mô hình KNN\n",
    "knn_model = KNeighborsClassifier(n_neighbors=1)\n",
    "knn_model.fit(X_train, y_train)\n",
    "\n",
    "# Dự đoán trên tập kiểm thử\n",
    "y_pred = knn_model.predict(X_test)\n",
    "\n",
    "# Tính độ chính xác\n",
    "accuracy = accuracy_score(y_test, y_pred)\n",
    "print(f'Accuracy: {accuracy}')\n",
    "\n",
    "# Tìm các mẫu dự đoán sai\n",
    "misclassified_samples = X_test[y_test != y_pred]\n",
    "\n",
    "# In số lượng mẫu dự đoán sai và hiển thị một số mẫu\n",
    "print(f'Number of misclassified samples: {len(misclassified_samples)}')\n"
   ]
  },
  {
   "cell_type": "code",
   "execution_count": 8,
   "metadata": {},
   "outputs": [],
   "source": [
    "import numpy as np\n",
    "import pandas as pd\n",
    "import matplotlib.pyplot as plt\n",
    "%matplotlib inline\n",
    "import seaborn as sns"
   ]
  },
  {
   "cell_type": "code",
   "execution_count": 9,
   "metadata": {},
   "outputs": [],
   "source": [
    "from sklearn.model_selection import train_test_split"
   ]
  },
  {
   "cell_type": "code",
   "execution_count": 163,
   "metadata": {},
   "outputs": [],
   "source": [
    "train_dt = pd.read_csv(\"mnist_train.csv\")"
   ]
  },
  {
   "cell_type": "code",
   "execution_count": 164,
   "metadata": {},
   "outputs": [],
   "source": [
    "test_dt = pd.read_csv(\"mnist_test.csv\")"
   ]
  },
  {
   "cell_type": "code",
   "execution_count": 165,
   "metadata": {},
   "outputs": [],
   "source": [
    "X_train = train_dt.iloc[:, 1:].values\n",
    "y_train = train_dt.iloc[:, 0].values\n",
    "\n",
    "X_test = test_dt.iloc[:, 1:].values\n",
    "y_test = test_dt.iloc[:, 0].values"
   ]
  },
  {
   "cell_type": "code",
   "execution_count": 149,
   "metadata": {},
   "outputs": [
    {
     "name": "stdout",
     "output_type": "stream",
     "text": [
      "Số lượng dữ liệu (bản ghi): 60000\n",
      "Số lượng đặc trưng: 784\n"
     ]
    }
   ],
   "source": [
    "# Kiểm tra kích thước của DataFrame\n",
    "num_records, num_features = train_dt.shape\n",
    "\n",
    "print(f\"Số lượng dữ liệu (bản ghi): {num_records}\")\n",
    "print(f\"Số lượng đặc trưng: {num_features - 1}\")  # Trừ 1 để loại bỏ cột nhãn 'label'"
   ]
  },
  {
   "cell_type": "code",
   "execution_count": 104,
   "metadata": {},
   "outputs": [
    {
     "name": "stdout",
     "output_type": "stream",
     "text": [
      "Số lượng unique values trong y_train: 10\n"
     ]
    }
   ],
   "source": [
    "# Giả sử y_train là mảng chứa nhãn của dữ liệu\n",
    "y_train_unique_values = np.unique(y_train)\n",
    "\n",
    "# Đếm số lượng unique values\n",
    "num_classes = len(y_train_unique_values)\n",
    "\n",
    "print(f\"Số lượng unique values trong y_train: {num_classes}\")"
   ]
  },
  {
   "cell_type": "code",
   "execution_count": 182,
   "metadata": {},
   "outputs": [
    {
     "name": "stdout",
     "output_type": "stream",
     "text": [
      "X_train shape (60000, 784)\n",
      "y_train shape (60000,)\n",
      "X_test shape (10000, 784)\n",
      "y_test shape (10000,)\n"
     ]
    }
   ],
   "source": [
    "print(\"X_train shape\", X_train.shape)\n",
    "print(\"y_train shape\", y_train.shape)\n",
    "print(\"X_test shape\", X_test.shape)\n",
    "print(\"y_test shape\", y_test.shape)"
   ]
  },
  {
   "cell_type": "code",
   "execution_count": null,
   "metadata": {},
   "outputs": [],
   "source": [
    "fig = plt.figure(figsize=(6, 6))\n",
    "fig.subplots_adjust(left=0, right=1, bottom=0, top=1, hspace=0.05, wspace=0.05)\n",
    "\n",
    "for i in range(20):\n",
    "    ax = fig.add_subplot(5, 5, i + 1, xticks=[], yticks=[])\n",
    "    ax.imshow(X_train[i], cmap=plt.cm.binary, interpolation=\"nearest\")\n",
    "    # label the image with the target value\n",
    "    ax.text(0, 7, str(y_train[i]))"
   ]
  },
  {
   "cell_type": "code",
   "execution_count": 163,
   "metadata": {},
   "outputs": [],
   "source": [
    "X_train = X_train.astype(\"float32\")\n",
    "X_test = X_test.astype(\"float32\")"
   ]
  },
  {
   "cell_type": "code",
   "execution_count": 164,
   "metadata": {},
   "outputs": [
    {
     "name": "stdout",
     "output_type": "stream",
     "text": [
      "Training matrix shape (60000, 784)\n",
      "Testing matrix shape (10000, 784)\n"
     ]
    }
   ],
   "source": [
    "print(\"Training matrix shape\", X_train.shape)\n",
    "print(\"Testing matrix shape\", X_test.shape)"
   ]
  },
  {
   "cell_type": "code",
   "execution_count": 165,
   "metadata": {},
   "outputs": [],
   "source": [
    "from sklearn.preprocessing import StandardScaler\n",
    "\n",
    "\n",
    "X_train = StandardScaler().fit_transform(X_train)\n",
    "\n",
    "X_test = StandardScaler().fit_transform(X_test)"
   ]
  },
  {
   "cell_type": "code",
   "execution_count": 166,
   "metadata": {},
   "outputs": [
    {
     "data": {
      "text/plain": [
       "array([[0., 0., 0., ..., 0., 0., 0.],\n",
       "       [0., 0., 0., ..., 0., 0., 0.],\n",
       "       [0., 0., 0., ..., 0., 0., 0.],\n",
       "       ...,\n",
       "       [0., 0., 0., ..., 0., 0., 0.],\n",
       "       [0., 0., 0., ..., 0., 0., 0.],\n",
       "       [0., 0., 0., ..., 0., 0., 0.]], dtype=float32)"
      ]
     },
     "execution_count": 166,
     "metadata": {},
     "output_type": "execute_result"
    }
   ],
   "source": [
    "X_train"
   ]
  },
  {
   "cell_type": "code",
   "execution_count": 166,
   "metadata": {},
   "outputs": [],
   "source": [
    "from sklearn.decomposition import PCA"
   ]
  },
  {
   "cell_type": "code",
   "execution_count": 153,
   "metadata": {},
   "outputs": [],
   "source": [
    "import numpy as np\n",
    " \n",
    "def PCA_defined(X , num_components):\n",
    "     \n",
    "    #Step-1\n",
    "    X_meaned = X - np.mean(X , axis = 0)\n",
    "     \n",
    "    #Step-2\n",
    "    cov_mat = np.cov(X_meaned , rowvar = False)\n",
    "     \n",
    "    #Step-3\n",
    "    eigen_values , eigen_vectors = np.linalg.eigh(cov_mat)\n",
    "     \n",
    "    #Step-4\n",
    "    sorted_index = np.argsort(eigen_values)[::-1]\n",
    "    sorted_eigenvalue = eigen_values[sorted_index]\n",
    "    sorted_eigenvectors = eigen_vectors[:,sorted_index]\n",
    "     \n",
    "    #Step-5\n",
    "    eigenvector_subset = sorted_eigenvectors[:,0:num_components]\n",
    "     \n",
    "    #Step-6\n",
    "    X_reduced = np.dot(eigenvector_subset.transpose() , X_meaned.transpose() ).transpose()\n",
    "     \n",
    "    return X_reduced"
   ]
  },
  {
   "cell_type": "code",
   "execution_count": 198,
   "metadata": {},
   "outputs": [],
   "source": [
    "mat_reduced = PCA_defined(X_train, 2)\n",
    "principal_df = pd.DataFrame(mat_reduced)\n",
    "principal_df['label'] = train_dt['label']\n",
    "# principal_df = pd.concat([principal_df , pd.DataFrame(target)] , axis = 1)"
   ]
  },
  {
   "cell_type": "code",
   "execution_count": 197,
   "metadata": {},
   "outputs": [
    {
     "data": {
      "text/html": [
       "<div>\n",
       "<style scoped>\n",
       "    .dataframe tbody tr th:only-of-type {\n",
       "        vertical-align: middle;\n",
       "    }\n",
       "\n",
       "    .dataframe tbody tr th {\n",
       "        vertical-align: top;\n",
       "    }\n",
       "\n",
       "    .dataframe thead th {\n",
       "        text-align: right;\n",
       "    }\n",
       "</style>\n",
       "<table border=\"1\" class=\"dataframe\">\n",
       "  <thead>\n",
       "    <tr style=\"text-align: right;\">\n",
       "      <th></th>\n",
       "      <th>0</th>\n",
       "      <th>1</th>\n",
       "      <th>2</th>\n",
       "      <th>3</th>\n",
       "      <th>4</th>\n",
       "      <th>5</th>\n",
       "      <th>6</th>\n",
       "      <th>7</th>\n",
       "      <th>8</th>\n",
       "      <th>9</th>\n",
       "      <th>...</th>\n",
       "      <th>145</th>\n",
       "      <th>146</th>\n",
       "      <th>147</th>\n",
       "      <th>148</th>\n",
       "      <th>149</th>\n",
       "      <th>150</th>\n",
       "      <th>151</th>\n",
       "      <th>152</th>\n",
       "      <th>153</th>\n",
       "      <th>label</th>\n",
       "    </tr>\n",
       "  </thead>\n",
       "  <tbody>\n",
       "    <tr>\n",
       "      <th>0</th>\n",
       "      <td>-123.932589</td>\n",
       "      <td>-312.674262</td>\n",
       "      <td>-24.514052</td>\n",
       "      <td>-555.757958</td>\n",
       "      <td>27.296668</td>\n",
       "      <td>232.476284</td>\n",
       "      <td>233.995733</td>\n",
       "      <td>159.799494</td>\n",
       "      <td>363.515021</td>\n",
       "      <td>-198.428077</td>\n",
       "      <td>...</td>\n",
       "      <td>53.230860</td>\n",
       "      <td>31.833660</td>\n",
       "      <td>0.726879</td>\n",
       "      <td>-16.508330</td>\n",
       "      <td>-25.815422</td>\n",
       "      <td>-28.378215</td>\n",
       "      <td>55.018998</td>\n",
       "      <td>-20.083274</td>\n",
       "      <td>-39.589952</td>\n",
       "      <td>5</td>\n",
       "    </tr>\n",
       "    <tr>\n",
       "      <th>1</th>\n",
       "      <td>-1011.718376</td>\n",
       "      <td>-294.857038</td>\n",
       "      <td>596.339561</td>\n",
       "      <td>-460.766197</td>\n",
       "      <td>827.275222</td>\n",
       "      <td>181.950528</td>\n",
       "      <td>-45.020478</td>\n",
       "      <td>-104.969592</td>\n",
       "      <td>-40.459118</td>\n",
       "      <td>-150.968899</td>\n",
       "      <td>...</td>\n",
       "      <td>63.505051</td>\n",
       "      <td>-46.836698</td>\n",
       "      <td>34.531079</td>\n",
       "      <td>-25.926578</td>\n",
       "      <td>27.867842</td>\n",
       "      <td>28.420288</td>\n",
       "      <td>7.241299</td>\n",
       "      <td>-12.457809</td>\n",
       "      <td>12.743231</td>\n",
       "      <td>0</td>\n",
       "    </tr>\n",
       "    <tr>\n",
       "      <th>2</th>\n",
       "      <td>51.849608</td>\n",
       "      <td>392.173153</td>\n",
       "      <td>-188.509749</td>\n",
       "      <td>521.011347</td>\n",
       "      <td>306.680729</td>\n",
       "      <td>1.835346</td>\n",
       "      <td>-859.047199</td>\n",
       "      <td>368.591875</td>\n",
       "      <td>114.546074</td>\n",
       "      <td>178.508144</td>\n",
       "      <td>...</td>\n",
       "      <td>91.034657</td>\n",
       "      <td>-26.476838</td>\n",
       "      <td>13.189897</td>\n",
       "      <td>-102.929416</td>\n",
       "      <td>-6.051062</td>\n",
       "      <td>74.464076</td>\n",
       "      <td>-54.195822</td>\n",
       "      <td>48.479797</td>\n",
       "      <td>73.278263</td>\n",
       "      <td>4</td>\n",
       "    </tr>\n",
       "    <tr>\n",
       "      <th>3</th>\n",
       "      <td>799.127037</td>\n",
       "      <td>-607.197217</td>\n",
       "      <td>273.651240</td>\n",
       "      <td>105.878237</td>\n",
       "      <td>1.853226</td>\n",
       "      <td>-699.654696</td>\n",
       "      <td>-473.713204</td>\n",
       "      <td>-67.321708</td>\n",
       "      <td>-302.731266</td>\n",
       "      <td>-11.111365</td>\n",
       "      <td>...</td>\n",
       "      <td>34.612465</td>\n",
       "      <td>-6.437832</td>\n",
       "      <td>7.563749</td>\n",
       "      <td>-45.611006</td>\n",
       "      <td>-8.103525</td>\n",
       "      <td>13.624440</td>\n",
       "      <td>36.802572</td>\n",
       "      <td>-15.698541</td>\n",
       "      <td>36.525392</td>\n",
       "      <td>1</td>\n",
       "    </tr>\n",
       "    <tr>\n",
       "      <th>4</th>\n",
       "      <td>382.754942</td>\n",
       "      <td>730.542867</td>\n",
       "      <td>16.353747</td>\n",
       "      <td>-241.697519</td>\n",
       "      <td>-98.161346</td>\n",
       "      <td>-43.229727</td>\n",
       "      <td>-91.666599</td>\n",
       "      <td>-405.554885</td>\n",
       "      <td>-225.501854</td>\n",
       "      <td>-104.112265</td>\n",
       "      <td>...</td>\n",
       "      <td>10.394836</td>\n",
       "      <td>-6.297174</td>\n",
       "      <td>-43.159962</td>\n",
       "      <td>4.906619</td>\n",
       "      <td>25.015851</td>\n",
       "      <td>-28.875120</td>\n",
       "      <td>-56.621607</td>\n",
       "      <td>-32.981212</td>\n",
       "      <td>27.399438</td>\n",
       "      <td>9</td>\n",
       "    </tr>\n",
       "    <tr>\n",
       "      <th>...</th>\n",
       "      <td>...</td>\n",
       "      <td>...</td>\n",
       "      <td>...</td>\n",
       "      <td>...</td>\n",
       "      <td>...</td>\n",
       "      <td>...</td>\n",
       "      <td>...</td>\n",
       "      <td>...</td>\n",
       "      <td>...</td>\n",
       "      <td>...</td>\n",
       "      <td>...</td>\n",
       "      <td>...</td>\n",
       "      <td>...</td>\n",
       "      <td>...</td>\n",
       "      <td>...</td>\n",
       "      <td>...</td>\n",
       "      <td>...</td>\n",
       "      <td>...</td>\n",
       "      <td>...</td>\n",
       "      <td>...</td>\n",
       "      <td>...</td>\n",
       "    </tr>\n",
       "    <tr>\n",
       "      <th>59995</th>\n",
       "      <td>99.621760</td>\n",
       "      <td>-293.475562</td>\n",
       "      <td>135.940210</td>\n",
       "      <td>-347.124204</td>\n",
       "      <td>-304.275921</td>\n",
       "      <td>-236.993993</td>\n",
       "      <td>-498.555370</td>\n",
       "      <td>-237.614980</td>\n",
       "      <td>494.897815</td>\n",
       "      <td>-320.334732</td>\n",
       "      <td>...</td>\n",
       "      <td>-2.555429</td>\n",
       "      <td>13.143865</td>\n",
       "      <td>27.376466</td>\n",
       "      <td>56.091234</td>\n",
       "      <td>-34.212074</td>\n",
       "      <td>-50.888605</td>\n",
       "      <td>73.903015</td>\n",
       "      <td>-14.304751</td>\n",
       "      <td>-30.872820</td>\n",
       "      <td>8</td>\n",
       "    </tr>\n",
       "    <tr>\n",
       "      <th>59996</th>\n",
       "      <td>-152.757810</td>\n",
       "      <td>-687.899701</td>\n",
       "      <td>-88.932413</td>\n",
       "      <td>-650.013832</td>\n",
       "      <td>-198.407548</td>\n",
       "      <td>-184.771874</td>\n",
       "      <td>-487.139684</td>\n",
       "      <td>505.333589</td>\n",
       "      <td>668.867244</td>\n",
       "      <td>-27.123424</td>\n",
       "      <td>...</td>\n",
       "      <td>-56.065433</td>\n",
       "      <td>-9.270627</td>\n",
       "      <td>28.016957</td>\n",
       "      <td>-20.506549</td>\n",
       "      <td>58.010718</td>\n",
       "      <td>113.634555</td>\n",
       "      <td>30.564946</td>\n",
       "      <td>-9.742611</td>\n",
       "      <td>-39.916250</td>\n",
       "      <td>3</td>\n",
       "    </tr>\n",
       "    <tr>\n",
       "      <th>59997</th>\n",
       "      <td>178.053450</td>\n",
       "      <td>160.078211</td>\n",
       "      <td>-257.613082</td>\n",
       "      <td>-714.650442</td>\n",
       "      <td>210.315152</td>\n",
       "      <td>462.462634</td>\n",
       "      <td>-464.535103</td>\n",
       "      <td>-184.822530</td>\n",
       "      <td>87.524346</td>\n",
       "      <td>-268.114988</td>\n",
       "      <td>...</td>\n",
       "      <td>34.284041</td>\n",
       "      <td>25.996496</td>\n",
       "      <td>-14.533352</td>\n",
       "      <td>-59.579673</td>\n",
       "      <td>-17.763061</td>\n",
       "      <td>-36.528902</td>\n",
       "      <td>55.544855</td>\n",
       "      <td>87.998836</td>\n",
       "      <td>5.789797</td>\n",
       "      <td>5</td>\n",
       "    </tr>\n",
       "    <tr>\n",
       "      <th>59998</th>\n",
       "      <td>-130.606072</td>\n",
       "      <td>-5.591936</td>\n",
       "      <td>513.858674</td>\n",
       "      <td>342.703565</td>\n",
       "      <td>521.165818</td>\n",
       "      <td>540.554227</td>\n",
       "      <td>-107.376421</td>\n",
       "      <td>140.728774</td>\n",
       "      <td>16.495785</td>\n",
       "      <td>93.841658</td>\n",
       "      <td>...</td>\n",
       "      <td>80.983491</td>\n",
       "      <td>47.825289</td>\n",
       "      <td>118.577888</td>\n",
       "      <td>59.528625</td>\n",
       "      <td>30.147097</td>\n",
       "      <td>-26.953287</td>\n",
       "      <td>23.308354</td>\n",
       "      <td>5.062378</td>\n",
       "      <td>65.265256</td>\n",
       "      <td>6</td>\n",
       "    </tr>\n",
       "    <tr>\n",
       "      <th>59999</th>\n",
       "      <td>173.435952</td>\n",
       "      <td>-24.718802</td>\n",
       "      <td>556.018894</td>\n",
       "      <td>-120.861880</td>\n",
       "      <td>198.000309</td>\n",
       "      <td>-233.026434</td>\n",
       "      <td>-461.439868</td>\n",
       "      <td>-154.455402</td>\n",
       "      <td>-87.303640</td>\n",
       "      <td>120.779780</td>\n",
       "      <td>...</td>\n",
       "      <td>-21.089467</td>\n",
       "      <td>-19.618989</td>\n",
       "      <td>2.291769</td>\n",
       "      <td>21.500199</td>\n",
       "      <td>14.624282</td>\n",
       "      <td>-16.362462</td>\n",
       "      <td>52.495607</td>\n",
       "      <td>12.631923</td>\n",
       "      <td>45.740012</td>\n",
       "      <td>8</td>\n",
       "    </tr>\n",
       "  </tbody>\n",
       "</table>\n",
       "<p>60000 rows × 155 columns</p>\n",
       "</div>"
      ],
      "text/plain": [
       "                 0           1           2           3           4  \\\n",
       "0      -123.932589 -312.674262  -24.514052 -555.757958   27.296668   \n",
       "1     -1011.718376 -294.857038  596.339561 -460.766197  827.275222   \n",
       "2        51.849608  392.173153 -188.509749  521.011347  306.680729   \n",
       "3       799.127037 -607.197217  273.651240  105.878237    1.853226   \n",
       "4       382.754942  730.542867   16.353747 -241.697519  -98.161346   \n",
       "...            ...         ...         ...         ...         ...   \n",
       "59995    99.621760 -293.475562  135.940210 -347.124204 -304.275921   \n",
       "59996  -152.757810 -687.899701  -88.932413 -650.013832 -198.407548   \n",
       "59997   178.053450  160.078211 -257.613082 -714.650442  210.315152   \n",
       "59998  -130.606072   -5.591936  513.858674  342.703565  521.165818   \n",
       "59999   173.435952  -24.718802  556.018894 -120.861880  198.000309   \n",
       "\n",
       "                5           6           7           8           9  ...  \\\n",
       "0      232.476284  233.995733  159.799494  363.515021 -198.428077  ...   \n",
       "1      181.950528  -45.020478 -104.969592  -40.459118 -150.968899  ...   \n",
       "2        1.835346 -859.047199  368.591875  114.546074  178.508144  ...   \n",
       "3     -699.654696 -473.713204  -67.321708 -302.731266  -11.111365  ...   \n",
       "4      -43.229727  -91.666599 -405.554885 -225.501854 -104.112265  ...   \n",
       "...           ...         ...         ...         ...         ...  ...   \n",
       "59995 -236.993993 -498.555370 -237.614980  494.897815 -320.334732  ...   \n",
       "59996 -184.771874 -487.139684  505.333589  668.867244  -27.123424  ...   \n",
       "59997  462.462634 -464.535103 -184.822530   87.524346 -268.114988  ...   \n",
       "59998  540.554227 -107.376421  140.728774   16.495785   93.841658  ...   \n",
       "59999 -233.026434 -461.439868 -154.455402  -87.303640  120.779780  ...   \n",
       "\n",
       "             145        146         147         148        149         150  \\\n",
       "0      53.230860  31.833660    0.726879  -16.508330 -25.815422  -28.378215   \n",
       "1      63.505051 -46.836698   34.531079  -25.926578  27.867842   28.420288   \n",
       "2      91.034657 -26.476838   13.189897 -102.929416  -6.051062   74.464076   \n",
       "3      34.612465  -6.437832    7.563749  -45.611006  -8.103525   13.624440   \n",
       "4      10.394836  -6.297174  -43.159962    4.906619  25.015851  -28.875120   \n",
       "...          ...        ...         ...         ...        ...         ...   \n",
       "59995  -2.555429  13.143865   27.376466   56.091234 -34.212074  -50.888605   \n",
       "59996 -56.065433  -9.270627   28.016957  -20.506549  58.010718  113.634555   \n",
       "59997  34.284041  25.996496  -14.533352  -59.579673 -17.763061  -36.528902   \n",
       "59998  80.983491  47.825289  118.577888   59.528625  30.147097  -26.953287   \n",
       "59999 -21.089467 -19.618989    2.291769   21.500199  14.624282  -16.362462   \n",
       "\n",
       "             151        152        153  label  \n",
       "0      55.018998 -20.083274 -39.589952      5  \n",
       "1       7.241299 -12.457809  12.743231      0  \n",
       "2     -54.195822  48.479797  73.278263      4  \n",
       "3      36.802572 -15.698541  36.525392      1  \n",
       "4     -56.621607 -32.981212  27.399438      9  \n",
       "...          ...        ...        ...    ...  \n",
       "59995  73.903015 -14.304751 -30.872820      8  \n",
       "59996  30.564946  -9.742611 -39.916250      3  \n",
       "59997  55.544855  87.998836   5.789797      5  \n",
       "59998  23.308354   5.062378  65.265256      6  \n",
       "59999  52.495607  12.631923  45.740012      8  \n",
       "\n",
       "[60000 rows x 155 columns]"
      ]
     },
     "execution_count": 197,
     "metadata": {},
     "output_type": "execute_result"
    }
   ],
   "source": [
    "principal_df"
   ]
  },
  {
   "cell_type": "code",
   "execution_count": 172,
   "metadata": {},
   "outputs": [
    {
     "data": {
      "text/html": [
       "<style>#sk-container-id-7 {color: black;background-color: white;}#sk-container-id-7 pre{padding: 0;}#sk-container-id-7 div.sk-toggleable {background-color: white;}#sk-container-id-7 label.sk-toggleable__label {cursor: pointer;display: block;width: 100%;margin-bottom: 0;padding: 0.3em;box-sizing: border-box;text-align: center;}#sk-container-id-7 label.sk-toggleable__label-arrow:before {content: \"▸\";float: left;margin-right: 0.25em;color: #696969;}#sk-container-id-7 label.sk-toggleable__label-arrow:hover:before {color: black;}#sk-container-id-7 div.sk-estimator:hover label.sk-toggleable__label-arrow:before {color: black;}#sk-container-id-7 div.sk-toggleable__content {max-height: 0;max-width: 0;overflow: hidden;text-align: left;background-color: #f0f8ff;}#sk-container-id-7 div.sk-toggleable__content pre {margin: 0.2em;color: black;border-radius: 0.25em;background-color: #f0f8ff;}#sk-container-id-7 input.sk-toggleable__control:checked~div.sk-toggleable__content {max-height: 200px;max-width: 100%;overflow: auto;}#sk-container-id-7 input.sk-toggleable__control:checked~label.sk-toggleable__label-arrow:before {content: \"▾\";}#sk-container-id-7 div.sk-estimator input.sk-toggleable__control:checked~label.sk-toggleable__label {background-color: #d4ebff;}#sk-container-id-7 div.sk-label input.sk-toggleable__control:checked~label.sk-toggleable__label {background-color: #d4ebff;}#sk-container-id-7 input.sk-hidden--visually {border: 0;clip: rect(1px 1px 1px 1px);clip: rect(1px, 1px, 1px, 1px);height: 1px;margin: -1px;overflow: hidden;padding: 0;position: absolute;width: 1px;}#sk-container-id-7 div.sk-estimator {font-family: monospace;background-color: #f0f8ff;border: 1px dotted black;border-radius: 0.25em;box-sizing: border-box;margin-bottom: 0.5em;}#sk-container-id-7 div.sk-estimator:hover {background-color: #d4ebff;}#sk-container-id-7 div.sk-parallel-item::after {content: \"\";width: 100%;border-bottom: 1px solid gray;flex-grow: 1;}#sk-container-id-7 div.sk-label:hover label.sk-toggleable__label {background-color: #d4ebff;}#sk-container-id-7 div.sk-serial::before {content: \"\";position: absolute;border-left: 1px solid gray;box-sizing: border-box;top: 0;bottom: 0;left: 50%;z-index: 0;}#sk-container-id-7 div.sk-serial {display: flex;flex-direction: column;align-items: center;background-color: white;padding-right: 0.2em;padding-left: 0.2em;position: relative;}#sk-container-id-7 div.sk-item {position: relative;z-index: 1;}#sk-container-id-7 div.sk-parallel {display: flex;align-items: stretch;justify-content: center;background-color: white;position: relative;}#sk-container-id-7 div.sk-item::before, #sk-container-id-7 div.sk-parallel-item::before {content: \"\";position: absolute;border-left: 1px solid gray;box-sizing: border-box;top: 0;bottom: 0;left: 50%;z-index: -1;}#sk-container-id-7 div.sk-parallel-item {display: flex;flex-direction: column;z-index: 1;position: relative;background-color: white;}#sk-container-id-7 div.sk-parallel-item:first-child::after {align-self: flex-end;width: 50%;}#sk-container-id-7 div.sk-parallel-item:last-child::after {align-self: flex-start;width: 50%;}#sk-container-id-7 div.sk-parallel-item:only-child::after {width: 0;}#sk-container-id-7 div.sk-dashed-wrapped {border: 1px dashed gray;margin: 0 0.4em 0.5em 0.4em;box-sizing: border-box;padding-bottom: 0.4em;background-color: white;}#sk-container-id-7 div.sk-label label {font-family: monospace;font-weight: bold;display: inline-block;line-height: 1.2em;}#sk-container-id-7 div.sk-label-container {text-align: center;}#sk-container-id-7 div.sk-container {/* jupyter's `normalize.less` sets `[hidden] { display: none; }` but bootstrap.min.css set `[hidden] { display: none !important; }` so we also need the `!important` here to be able to override the default hidden behavior on the sphinx rendered scikit-learn.org. See: https://github.com/scikit-learn/scikit-learn/issues/21755 */display: inline-block !important;position: relative;}#sk-container-id-7 div.sk-text-repr-fallback {display: none;}</style><div id=\"sk-container-id-7\" class=\"sk-top-container\"><div class=\"sk-text-repr-fallback\"><pre>PCA(n_components=2)</pre><b>In a Jupyter environment, please rerun this cell to show the HTML representation or trust the notebook. <br />On GitHub, the HTML representation is unable to render, please try loading this page with nbviewer.org.</b></div><div class=\"sk-container\" hidden><div class=\"sk-item\"><div class=\"sk-estimator sk-toggleable\"><input class=\"sk-toggleable__control sk-hidden--visually\" id=\"sk-estimator-id-7\" type=\"checkbox\" checked><label for=\"sk-estimator-id-7\" class=\"sk-toggleable__label sk-toggleable__label-arrow\">PCA</label><div class=\"sk-toggleable__content\"><pre>PCA(n_components=2)</pre></div></div></div></div></div>"
      ],
      "text/plain": [
       "PCA(n_components=2)"
      ]
     },
     "execution_count": 172,
     "metadata": {},
     "output_type": "execute_result"
    }
   ],
   "source": [
    "pca = PCA(n_components=2)\n",
    "pca.fit(X_train)"
   ]
  },
  {
   "cell_type": "code",
   "execution_count": 177,
   "metadata": {},
   "outputs": [
    {
     "data": {
      "text/plain": [
       "array([[0, 0, 0, ..., 0, 0, 0],\n",
       "       [0, 0, 0, ..., 0, 0, 0],\n",
       "       [0, 0, 0, ..., 0, 0, 0],\n",
       "       ...,\n",
       "       [0, 0, 0, ..., 0, 0, 0],\n",
       "       [0, 0, 0, ..., 0, 0, 0],\n",
       "       [0, 0, 0, ..., 0, 0, 0]], dtype=int64)"
      ]
     },
     "execution_count": 177,
     "metadata": {},
     "output_type": "execute_result"
    }
   ],
   "source": [
    "X_train"
   ]
  },
  {
   "cell_type": "code",
   "execution_count": 174,
   "metadata": {},
   "outputs": [
    {
     "name": "stdout",
     "output_type": "stream",
     "text": [
      "Total number of components used after PCA : 2\n"
     ]
    }
   ],
   "source": [
    "print(f\"Total number of components used after PCA : {pca.n_components_}\")"
   ]
  },
  {
   "cell_type": "code",
   "execution_count": 178,
   "metadata": {},
   "outputs": [
    {
     "name": "stdout",
     "output_type": "stream",
     "text": [
      "train_img shape : (60000, 2)\n",
      "test_img shape : (10000, 2)\n"
     ]
    }
   ],
   "source": [
    "train_img = pca.transform(X_train)\n",
    "test_img = pca.transform(X_test)\n",
    "\n",
    "print(f\"train_img shape : {train_img.shape}\")\n",
    "print(f\"test_img shape : {test_img.shape}\")"
   ]
  },
  {
   "cell_type": "code",
   "execution_count": 181,
   "metadata": {},
   "outputs": [
    {
     "ename": "AttributeError",
     "evalue": "'numpy.ndarray' object has no attribute 'describe'",
     "output_type": "error",
     "traceback": [
      "\u001b[1;31m---------------------------------------------------------------------------\u001b[0m",
      "\u001b[1;31mAttributeError\u001b[0m                            Traceback (most recent call last)",
      "Cell \u001b[1;32mIn[181], line 1\u001b[0m\n\u001b[1;32m----> 1\u001b[0m \u001b[43mtrain_img\u001b[49m\u001b[38;5;241;43m.\u001b[39;49m\u001b[43mdescribe\u001b[49m()\n",
      "\u001b[1;31mAttributeError\u001b[0m: 'numpy.ndarray' object has no attribute 'describe'"
     ]
    }
   ],
   "source": [
    "train_img.describe"
   ]
  },
  {
   "cell_type": "code",
   "execution_count": 116,
   "metadata": {},
   "outputs": [],
   "source": [
    "from sklearn.naive_bayes import GaussianNB\n",
    "from sklearn.naive_bayes import MultinomialNB\n",
    "from sklearn.metrics import accuracy_score, classification_report, confusion_matrix"
   ]
  },
  {
   "cell_type": "code",
   "execution_count": 169,
   "metadata": {},
   "outputs": [],
   "source": [
    "model = MultinomialNB()"
   ]
  },
  {
   "cell_type": "code",
   "execution_count": 171,
   "metadata": {},
   "outputs": [],
   "source": [
    "model = GaussianNB()"
   ]
  },
  {
   "cell_type": "code",
   "execution_count": 172,
   "metadata": {},
   "outputs": [
    {
     "data": {
      "text/html": [
       "<style>#sk-container-id-4 {color: black;background-color: white;}#sk-container-id-4 pre{padding: 0;}#sk-container-id-4 div.sk-toggleable {background-color: white;}#sk-container-id-4 label.sk-toggleable__label {cursor: pointer;display: block;width: 100%;margin-bottom: 0;padding: 0.3em;box-sizing: border-box;text-align: center;}#sk-container-id-4 label.sk-toggleable__label-arrow:before {content: \"▸\";float: left;margin-right: 0.25em;color: #696969;}#sk-container-id-4 label.sk-toggleable__label-arrow:hover:before {color: black;}#sk-container-id-4 div.sk-estimator:hover label.sk-toggleable__label-arrow:before {color: black;}#sk-container-id-4 div.sk-toggleable__content {max-height: 0;max-width: 0;overflow: hidden;text-align: left;background-color: #f0f8ff;}#sk-container-id-4 div.sk-toggleable__content pre {margin: 0.2em;color: black;border-radius: 0.25em;background-color: #f0f8ff;}#sk-container-id-4 input.sk-toggleable__control:checked~div.sk-toggleable__content {max-height: 200px;max-width: 100%;overflow: auto;}#sk-container-id-4 input.sk-toggleable__control:checked~label.sk-toggleable__label-arrow:before {content: \"▾\";}#sk-container-id-4 div.sk-estimator input.sk-toggleable__control:checked~label.sk-toggleable__label {background-color: #d4ebff;}#sk-container-id-4 div.sk-label input.sk-toggleable__control:checked~label.sk-toggleable__label {background-color: #d4ebff;}#sk-container-id-4 input.sk-hidden--visually {border: 0;clip: rect(1px 1px 1px 1px);clip: rect(1px, 1px, 1px, 1px);height: 1px;margin: -1px;overflow: hidden;padding: 0;position: absolute;width: 1px;}#sk-container-id-4 div.sk-estimator {font-family: monospace;background-color: #f0f8ff;border: 1px dotted black;border-radius: 0.25em;box-sizing: border-box;margin-bottom: 0.5em;}#sk-container-id-4 div.sk-estimator:hover {background-color: #d4ebff;}#sk-container-id-4 div.sk-parallel-item::after {content: \"\";width: 100%;border-bottom: 1px solid gray;flex-grow: 1;}#sk-container-id-4 div.sk-label:hover label.sk-toggleable__label {background-color: #d4ebff;}#sk-container-id-4 div.sk-serial::before {content: \"\";position: absolute;border-left: 1px solid gray;box-sizing: border-box;top: 0;bottom: 0;left: 50%;z-index: 0;}#sk-container-id-4 div.sk-serial {display: flex;flex-direction: column;align-items: center;background-color: white;padding-right: 0.2em;padding-left: 0.2em;position: relative;}#sk-container-id-4 div.sk-item {position: relative;z-index: 1;}#sk-container-id-4 div.sk-parallel {display: flex;align-items: stretch;justify-content: center;background-color: white;position: relative;}#sk-container-id-4 div.sk-item::before, #sk-container-id-4 div.sk-parallel-item::before {content: \"\";position: absolute;border-left: 1px solid gray;box-sizing: border-box;top: 0;bottom: 0;left: 50%;z-index: -1;}#sk-container-id-4 div.sk-parallel-item {display: flex;flex-direction: column;z-index: 1;position: relative;background-color: white;}#sk-container-id-4 div.sk-parallel-item:first-child::after {align-self: flex-end;width: 50%;}#sk-container-id-4 div.sk-parallel-item:last-child::after {align-self: flex-start;width: 50%;}#sk-container-id-4 div.sk-parallel-item:only-child::after {width: 0;}#sk-container-id-4 div.sk-dashed-wrapped {border: 1px dashed gray;margin: 0 0.4em 0.5em 0.4em;box-sizing: border-box;padding-bottom: 0.4em;background-color: white;}#sk-container-id-4 div.sk-label label {font-family: monospace;font-weight: bold;display: inline-block;line-height: 1.2em;}#sk-container-id-4 div.sk-label-container {text-align: center;}#sk-container-id-4 div.sk-container {/* jupyter's `normalize.less` sets `[hidden] { display: none; }` but bootstrap.min.css set `[hidden] { display: none !important; }` so we also need the `!important` here to be able to override the default hidden behavior on the sphinx rendered scikit-learn.org. See: https://github.com/scikit-learn/scikit-learn/issues/21755 */display: inline-block !important;position: relative;}#sk-container-id-4 div.sk-text-repr-fallback {display: none;}</style><div id=\"sk-container-id-4\" class=\"sk-top-container\"><div class=\"sk-text-repr-fallback\"><pre>GaussianNB()</pre><b>In a Jupyter environment, please rerun this cell to show the HTML representation or trust the notebook. <br />On GitHub, the HTML representation is unable to render, please try loading this page with nbviewer.org.</b></div><div class=\"sk-container\" hidden><div class=\"sk-item\"><div class=\"sk-estimator sk-toggleable\"><input class=\"sk-toggleable__control sk-hidden--visually\" id=\"sk-estimator-id-4\" type=\"checkbox\" checked><label for=\"sk-estimator-id-4\" class=\"sk-toggleable__label sk-toggleable__label-arrow\">GaussianNB</label><div class=\"sk-toggleable__content\"><pre>GaussianNB()</pre></div></div></div></div></div>"
      ],
      "text/plain": [
       "GaussianNB()"
      ]
     },
     "execution_count": 172,
     "metadata": {},
     "output_type": "execute_result"
    }
   ],
   "source": [
    "model.fit(X_train, y_train)"
   ]
  },
  {
   "cell_type": "code",
   "execution_count": 173,
   "metadata": {},
   "outputs": [],
   "source": [
    "y_pred = model.predict(X_test)"
   ]
  },
  {
   "cell_type": "code",
   "execution_count": 117,
   "metadata": {},
   "outputs": [],
   "source": [
    "accuracy = accuracy_score(y_test, y_pred)\n",
    "# conf_matrix = confusion_matrix(y_test, y_pred)\n",
    "# classification_rep = classification_report(y_test, y_pred)"
   ]
  },
  {
   "cell_type": "code",
   "execution_count": 175,
   "metadata": {},
   "outputs": [
    {
     "name": "stdout",
     "output_type": "stream",
     "text": [
      "Accuracy: 0.1075\n"
     ]
    }
   ],
   "source": [
    "# Hiển thị kết quả\n",
    "print(\"Accuracy:\", accuracy)\n",
    "# print(\"\\nConfusion Matrix:\\n\", conf_matrix)\n",
    "# print(\"\\nClassification Report:\\n\", classification_rep)"
   ]
  },
  {
   "cell_type": "code",
   "execution_count": 110,
   "metadata": {},
   "outputs": [],
   "source": [
    "from sklearn.neighbors import KNeighborsClassifier"
   ]
  },
  {
   "cell_type": "code",
   "execution_count": 111,
   "metadata": {},
   "outputs": [],
   "source": [
    "model = KNeighborsClassifier(n_neighbors=1)"
   ]
  },
  {
   "cell_type": "code",
   "execution_count": 112,
   "metadata": {},
   "outputs": [
    {
     "data": {
      "text/html": [
       "<style>#sk-container-id-2 {color: black;background-color: white;}#sk-container-id-2 pre{padding: 0;}#sk-container-id-2 div.sk-toggleable {background-color: white;}#sk-container-id-2 label.sk-toggleable__label {cursor: pointer;display: block;width: 100%;margin-bottom: 0;padding: 0.3em;box-sizing: border-box;text-align: center;}#sk-container-id-2 label.sk-toggleable__label-arrow:before {content: \"▸\";float: left;margin-right: 0.25em;color: #696969;}#sk-container-id-2 label.sk-toggleable__label-arrow:hover:before {color: black;}#sk-container-id-2 div.sk-estimator:hover label.sk-toggleable__label-arrow:before {color: black;}#sk-container-id-2 div.sk-toggleable__content {max-height: 0;max-width: 0;overflow: hidden;text-align: left;background-color: #f0f8ff;}#sk-container-id-2 div.sk-toggleable__content pre {margin: 0.2em;color: black;border-radius: 0.25em;background-color: #f0f8ff;}#sk-container-id-2 input.sk-toggleable__control:checked~div.sk-toggleable__content {max-height: 200px;max-width: 100%;overflow: auto;}#sk-container-id-2 input.sk-toggleable__control:checked~label.sk-toggleable__label-arrow:before {content: \"▾\";}#sk-container-id-2 div.sk-estimator input.sk-toggleable__control:checked~label.sk-toggleable__label {background-color: #d4ebff;}#sk-container-id-2 div.sk-label input.sk-toggleable__control:checked~label.sk-toggleable__label {background-color: #d4ebff;}#sk-container-id-2 input.sk-hidden--visually {border: 0;clip: rect(1px 1px 1px 1px);clip: rect(1px, 1px, 1px, 1px);height: 1px;margin: -1px;overflow: hidden;padding: 0;position: absolute;width: 1px;}#sk-container-id-2 div.sk-estimator {font-family: monospace;background-color: #f0f8ff;border: 1px dotted black;border-radius: 0.25em;box-sizing: border-box;margin-bottom: 0.5em;}#sk-container-id-2 div.sk-estimator:hover {background-color: #d4ebff;}#sk-container-id-2 div.sk-parallel-item::after {content: \"\";width: 100%;border-bottom: 1px solid gray;flex-grow: 1;}#sk-container-id-2 div.sk-label:hover label.sk-toggleable__label {background-color: #d4ebff;}#sk-container-id-2 div.sk-serial::before {content: \"\";position: absolute;border-left: 1px solid gray;box-sizing: border-box;top: 0;bottom: 0;left: 50%;z-index: 0;}#sk-container-id-2 div.sk-serial {display: flex;flex-direction: column;align-items: center;background-color: white;padding-right: 0.2em;padding-left: 0.2em;position: relative;}#sk-container-id-2 div.sk-item {position: relative;z-index: 1;}#sk-container-id-2 div.sk-parallel {display: flex;align-items: stretch;justify-content: center;background-color: white;position: relative;}#sk-container-id-2 div.sk-item::before, #sk-container-id-2 div.sk-parallel-item::before {content: \"\";position: absolute;border-left: 1px solid gray;box-sizing: border-box;top: 0;bottom: 0;left: 50%;z-index: -1;}#sk-container-id-2 div.sk-parallel-item {display: flex;flex-direction: column;z-index: 1;position: relative;background-color: white;}#sk-container-id-2 div.sk-parallel-item:first-child::after {align-self: flex-end;width: 50%;}#sk-container-id-2 div.sk-parallel-item:last-child::after {align-self: flex-start;width: 50%;}#sk-container-id-2 div.sk-parallel-item:only-child::after {width: 0;}#sk-container-id-2 div.sk-dashed-wrapped {border: 1px dashed gray;margin: 0 0.4em 0.5em 0.4em;box-sizing: border-box;padding-bottom: 0.4em;background-color: white;}#sk-container-id-2 div.sk-label label {font-family: monospace;font-weight: bold;display: inline-block;line-height: 1.2em;}#sk-container-id-2 div.sk-label-container {text-align: center;}#sk-container-id-2 div.sk-container {/* jupyter's `normalize.less` sets `[hidden] { display: none; }` but bootstrap.min.css set `[hidden] { display: none !important; }` so we also need the `!important` here to be able to override the default hidden behavior on the sphinx rendered scikit-learn.org. See: https://github.com/scikit-learn/scikit-learn/issues/21755 */display: inline-block !important;position: relative;}#sk-container-id-2 div.sk-text-repr-fallback {display: none;}</style><div id=\"sk-container-id-2\" class=\"sk-top-container\"><div class=\"sk-text-repr-fallback\"><pre>KNeighborsClassifier(n_neighbors=1)</pre><b>In a Jupyter environment, please rerun this cell to show the HTML representation or trust the notebook. <br />On GitHub, the HTML representation is unable to render, please try loading this page with nbviewer.org.</b></div><div class=\"sk-container\" hidden><div class=\"sk-item\"><div class=\"sk-estimator sk-toggleable\"><input class=\"sk-toggleable__control sk-hidden--visually\" id=\"sk-estimator-id-2\" type=\"checkbox\" checked><label for=\"sk-estimator-id-2\" class=\"sk-toggleable__label sk-toggleable__label-arrow\">KNeighborsClassifier</label><div class=\"sk-toggleable__content\"><pre>KNeighborsClassifier(n_neighbors=1)</pre></div></div></div></div></div>"
      ],
      "text/plain": [
       "KNeighborsClassifier(n_neighbors=1)"
      ]
     },
     "execution_count": 112,
     "metadata": {},
     "output_type": "execute_result"
    }
   ],
   "source": [
    "model.fit(train_img, y_train)"
   ]
  },
  {
   "cell_type": "code",
   "execution_count": 113,
   "metadata": {},
   "outputs": [],
   "source": [
    "y_pred = model.predict(test_img)"
   ]
  },
  {
   "cell_type": "code",
   "execution_count": 118,
   "metadata": {},
   "outputs": [
    {
     "name": "stdout",
     "output_type": "stream",
     "text": [
      "Accuracy: 0.9694\n"
     ]
    }
   ],
   "source": [
    "accuracy = accuracy_score(y_test, y_pred)\n",
    "print(\"Accuracy:\", accuracy)"
   ]
  },
  {
   "cell_type": "markdown",
   "metadata": {},
   "source": [
    "NAIVE BAYES"
   ]
  },
  {
   "cell_type": "code",
   "execution_count": 188,
   "metadata": {},
   "outputs": [],
   "source": [
    "import os\n",
    "import math\n",
    "import time\n",
    "from pathlib import Path\n",
    "import pandas as pd\n",
    "import numpy as np\n",
    "from sklearn.decomposition import PCA\n",
    "\n",
    "\n",
    "class NaiveBayes:\n",
    "    def __init__(self):\n",
    "        self.train_datas, self.train_labels, self.test_datas, self.test_labels = (\n",
    "            [],\n",
    "            [],\n",
    "            [],\n",
    "            [],\n",
    "        )\n",
    "        self.prior, self.likelihoods, self.confusionMatrix = [], [], []\n",
    "        self.start, self.end, self.time_use = 0, 0, 0\n",
    "        self.features = 0\n",
    "        self.train_records = 0\n",
    "        self.test_records = 0\n",
    "        self.num_classes = 0\n",
    "        self.features = 0\n",
    "        self.feature_values = 256\n",
    "\n",
    "    def init(self, X_train, y_train, X_test, y_test):\n",
    "        self.train_labels = y_train\n",
    "        self.train_datas = X_train\n",
    "\n",
    "        self.test_labels = y_test\n",
    "        self.test_datas = X_test\n",
    "\n",
    "        self.train_records, self.features = self.train_datas.shape\n",
    "        self.test_records = len(self.test_datas)\n",
    "\n",
    "        self.num_classes = len(np.unique(self.train_labels))\n",
    "\n",
    "        self.confusionMatrix = [[0] * self.num_classes for _ in range(self.num_classes)]\n",
    "\n",
    "    def run(self):\n",
    "        self.start = time.time()\n",
    "        self.train()\n",
    "        self.predict_logarit()\n",
    "        self.end = time.time()\n",
    "        self.time_use = self.end - self.start\n",
    "        print(self.time_use)\n",
    "\n",
    "    def assess(self):\n",
    "        self.CM()\n",
    "\n",
    "    def train(self):\n",
    "        # Priori Probability\n",
    "        self.prior = [0] * self.num_classes\n",
    "\n",
    "        for label in self.train_labels:\n",
    "            self.prior[label] += 1\n",
    "\n",
    "        for i in range(self.num_classes):\n",
    "            self.prior[i] /= self.train_records\n",
    "            # print(f\"priori Probability of {i}: \", self.prior[i])\n",
    "\n",
    "        # Posterior Probability\n",
    "        self.likelihoods = [\n",
    "            [[0] * self.feature_values for _ in range(self.features)]\n",
    "            for _ in range(self.num_classes)\n",
    "        ]\n",
    "        class_counts = [0] * self.num_classes\n",
    "\n",
    "        for i in range(self.train_records):\n",
    "            label = self.train_labels[i]\n",
    "            for j in range(self.features):\n",
    "                index = int(self.train_datas[i][j])\n",
    "                self.likelihoods[label][j][index] += 1\n",
    "            class_counts[label] += 1\n",
    "\n",
    "        for i in range(self.num_classes):\n",
    "            for j in range(self.features):\n",
    "                for k in range(self.feature_values):\n",
    "                    if self.likelihoods[i][j][k] == 0:\n",
    "                        self.likelihoods[i][j][k] = 1e-7\n",
    "                    else:\n",
    "                        self.likelihoods[i][j][k] /= class_counts[i]\n",
    "\n",
    "    def predict_logarit(self):\n",
    "        correct = 0\n",
    "        sum_errors = 0\n",
    "\n",
    "        for i in range(self.test_records):\n",
    "            max_prob = -float(\"inf\")\n",
    "            max_class = -1\n",
    "\n",
    "            for j in range(self.num_classes):\n",
    "                prob = math.log(self.prior[j])\n",
    "                for k in range(self.features):\n",
    "                    index = int(self.test_datas[i][k])\n",
    "                    prob += math.log(self.likelihoods[j][k][index])\n",
    "\n",
    "                if prob > max_prob:\n",
    "                    max_prob = prob\n",
    "                    max_class = j\n",
    "\n",
    "            self.confusionMatrix[self.test_labels[i]][max_class] += 1\n",
    "\n",
    "            if max_class == self.test_labels[i]:\n",
    "                correct += 1\n",
    "            else:\n",
    "                sum_errors += 1\n",
    "\n",
    "        print()\n",
    "        print(\"so ket qua sai:\", sum_errors)\n",
    "        print(\"so ket qua dung:\", correct)\n",
    "        accuracy = correct / (sum_errors + correct)\n",
    "        print(\"Accuracy:\", accuracy)\n",
    "\n",
    "    def CM(self):\n",
    "        print(\"Ground Truth = GT\")\n",
    "        print(\"Predicted Label = PL\")\n",
    "        self.printLine()\n",
    "        print(f\"total= {self.test_records:3d}|\", end=\"\")\n",
    "        for i in range(self.num_classes):\n",
    "            print(f\" PL = {i:2d} |\", end=\"\")\n",
    "        print()\n",
    "        self.printLine()\n",
    "\n",
    "        for i in range(self.num_classes):\n",
    "            print(f\" GT = {i:2d}    |\", end=\"\")\n",
    "            for j in range(self.num_classes):\n",
    "                print(f\"   {self.confusionMatrix[i][j]:4d}  |\", end=\"\")\n",
    "            print()\n",
    "            self.printLine()\n",
    "\n",
    "    def printLine(self):\n",
    "        print(\"------------|\", end=\"\")\n",
    "        for _ in range(self.num_classes):\n",
    "            print(\"---------|\", end=\"\")\n",
    "        print()"
   ]
  },
  {
   "cell_type": "code",
   "execution_count": 189,
   "metadata": {},
   "outputs": [],
   "source": [
    "NB = NaiveBayes()"
   ]
  },
  {
   "cell_type": "code",
   "execution_count": 55,
   "metadata": {},
   "outputs": [],
   "source": [
    "# X_train = train_dt.iloc[:,1:].values\n",
    "# y_train = train_dt.iloc[:,0].values\n",
    "\n",
    "# X_test = test_dt.iloc[:,1:].values\n",
    "# y_test = test_dt.iloc[:,0].values\n",
    "from sklearn.decomposition import PCA\n",
    "\n",
    "pca = PCA(n_components=0.95)\n",
    "pca.fit(X_train)\n",
    "X_train = pca.transform(X_train)\n",
    "X_test = pca.transform(X_test)"
   ]
  },
  {
   "cell_type": "code",
   "execution_count": 190,
   "metadata": {},
   "outputs": [],
   "source": [
    "NB.init(X_train, y_train, X_test, y_test)"
   ]
  },
  {
   "cell_type": "code",
   "execution_count": 180,
   "metadata": {},
   "outputs": [
    {
     "data": {
      "text/plain": [
       "array([[0, 0, 0, ..., 0, 0, 0],\n",
       "       [0, 0, 0, ..., 0, 0, 0],\n",
       "       [0, 0, 0, ..., 0, 0, 0],\n",
       "       ...,\n",
       "       [0, 0, 0, ..., 0, 0, 0],\n",
       "       [0, 0, 0, ..., 0, 0, 0],\n",
       "       [0, 0, 0, ..., 0, 0, 0]], dtype=int64)"
      ]
     },
     "execution_count": 180,
     "metadata": {},
     "output_type": "execute_result"
    }
   ],
   "source": [
    "X_train"
   ]
  },
  {
   "cell_type": "code",
   "execution_count": 191,
   "metadata": {},
   "outputs": [
    {
     "data": {
      "text/plain": [
       "(10000, 784)"
      ]
     },
     "execution_count": 191,
     "metadata": {},
     "output_type": "execute_result"
    }
   ],
   "source": [
    "X_test.shape"
   ]
  },
  {
   "cell_type": "code",
   "execution_count": 187,
   "metadata": {},
   "outputs": [
    {
     "name": "stdout",
     "output_type": "stream",
     "text": [
      "train_records:  60000\n",
      "test_records:  10000\n",
      "num_classes:  10\n",
      "features:  784\n",
      "feature_values:  256\n"
     ]
    }
   ],
   "source": [
    "print(\"train_records: \", NB.train_records)\n",
    "print(\"test_records: \", NB.test_records)\n",
    "print(\"num_classes: \", NB.num_classes)\n",
    "print(\"features: \", NB.features)\n",
    "print(\"feature_values: \", NB.feature_values)"
   ]
  },
  {
   "cell_type": "code",
   "execution_count": 35,
   "metadata": {},
   "outputs": [],
   "source": [
    "# self.features = 0\n",
    "# self.train_records = 0\n",
    "# self.test_records = 0\n",
    "# self.num_classes = 0\n",
    "# self.features = 0\n",
    "# self.feature_values = 256"
   ]
  },
  {
   "cell_type": "code",
   "execution_count": 193,
   "metadata": {},
   "outputs": [
    {
     "name": "stdout",
     "output_type": "stream",
     "text": [
      "\n",
      "so ket qua sai: 1607\n",
      "so ket qua dung: 8393\n",
      "Accuracy: 0.8393\n",
      "177.12074375152588\n"
     ]
    }
   ],
   "source": [
    "NB.run()"
   ]
  },
  {
   "cell_type": "code",
   "execution_count": 194,
   "metadata": {},
   "outputs": [
    {
     "name": "stdout",
     "output_type": "stream",
     "text": [
      "Ground Truth = GT\n",
      "Predicted Label = PL\n",
      "------------|---------|---------|---------|---------|---------|---------|---------|---------|---------|---------|\n",
      "total= 10000| PL =  0 | PL =  1 | PL =  2 | PL =  3 | PL =  4 | PL =  5 | PL =  6 | PL =  7 | PL =  8 | PL =  9 |\n",
      "------------|---------|---------|---------|---------|---------|---------|---------|---------|---------|---------|\n",
      " GT =  0    |    881  |      0  |      4  |      5  |      2  |     47  |     16  |      1  |     24  |      0  |\n",
      "------------|---------|---------|---------|---------|---------|---------|---------|---------|---------|---------|\n",
      " GT =  1    |      0  |   1048  |     26  |      6  |      1  |     16  |      5  |      0  |     33  |      0  |\n",
      "------------|---------|---------|---------|---------|---------|---------|---------|---------|---------|---------|\n",
      " GT =  2    |     16  |      4  |    866  |     42  |     15  |      5  |     26  |      7  |     50  |      1  |\n",
      "------------|---------|---------|---------|---------|---------|---------|---------|---------|---------|---------|\n",
      " GT =  3    |      2  |      1  |     39  |    848  |      0  |     28  |      8  |     14  |     44  |     26  |\n",
      "------------|---------|---------|---------|---------|---------|---------|---------|---------|---------|---------|\n",
      " GT =  4    |      3  |      0  |      9  |      0  |    801  |     12  |     19  |      0  |     28  |    110  |\n",
      "------------|---------|---------|---------|---------|---------|---------|---------|---------|---------|---------|\n",
      " GT =  5    |     24  |      1  |     11  |    115  |     20  |    644  |     17  |      8  |     34  |     18  |\n",
      "------------|---------|---------|---------|---------|---------|---------|---------|---------|---------|---------|\n",
      " GT =  6    |     12  |      6  |     27  |      1  |     11  |     38  |    853  |      0  |     10  |      0  |\n",
      "------------|---------|---------|---------|---------|---------|---------|---------|---------|---------|---------|\n",
      " GT =  7    |      1  |     11  |     14  |      3  |     33  |      3  |      0  |    842  |     39  |     82  |\n",
      "------------|---------|---------|---------|---------|---------|---------|---------|---------|---------|---------|\n",
      " GT =  8    |     14  |      3  |     22  |     69  |      8  |     39  |      7  |      7  |    775  |     30  |\n",
      "------------|---------|---------|---------|---------|---------|---------|---------|---------|---------|---------|\n",
      " GT =  9    |      9  |      2  |      5  |      7  |     82  |     12  |      0  |     27  |     30  |    835  |\n",
      "------------|---------|---------|---------|---------|---------|---------|---------|---------|---------|---------|\n"
     ]
    }
   ],
   "source": [
    "NB.CM()"
   ]
  },
  {
   "cell_type": "markdown",
   "metadata": {},
   "source": [
    "KNN\n"
   ]
  },
  {
   "cell_type": "code",
   "execution_count": null,
   "metadata": {},
   "outputs": [],
   "source": []
  },
  {
   "cell_type": "code",
   "execution_count": 122,
   "metadata": {},
   "outputs": [],
   "source": [
    "import numpy as np\n",
    "from scipy.stats import mode\n",
    "\n",
    "\n",
    "class KNearestNeighbors:\n",
    "    def __init__(self):\n",
    "        self.train_datas, self.train_labels, self.test_datas, self.test_labels = (\n",
    "            [],\n",
    "            [],\n",
    "            [],\n",
    "            [],\n",
    "        )\n",
    "        self.start, self.end, self.time_use = 0, 0, 0\n",
    "        self.features = 0\n",
    "        self.train_records = 0\n",
    "        self.test_records = 0\n",
    "        self.num_classes = 0\n",
    "        self.features = 0\n",
    "        self.op_labels = []\n",
    "        \n",
    "        # self.feature_values = 256\n",
    "\n",
    "    def init(self, X_train, y_train, X_test, y_test):\n",
    "        self.train_labels = y_train\n",
    "        self.train_datas = X_train\n",
    "\n",
    "        self.test_labels = y_test\n",
    "        self.test_datas = X_test\n",
    "\n",
    "        self.train_records, self.features = self.train_datas.shape\n",
    "        self.test_records = len(self.test_datas)\n",
    "\n",
    "        self.num_classes = len(np.unique(self.train_labels))\n",
    "\n",
    "        self.confusionMatrix = [[0] * self.num_classes for _ in range(self.num_classes)]\n",
    "\n",
    "    def eucledianDistance(self, p1, p2):\n",
    "        dist = np.sqrt(np.sum((p1 - p2)**2))\n",
    "        return dist\n",
    "\n",
    "    def predict(self, k, num_samples):\n",
    "        self.test_records = num_samples\n",
    "        for i in range(self.test_records):\n",
    "            distances = np.array([(j, self.eucledianDistance(self.train_datas[j], self.test_datas[i]))\n",
    "                                  for j in range(self.train_records)])\n",
    "            \n",
    "            sorted_indices = np.argsort(distances[:, 1])\n",
    "            \n",
    "            neighbors = sorted_indices[:k]\n",
    "\n",
    "            predicted_label = mode(self.train_labels[neighbors]).mode\n",
    "            # print(\"GT - PL: \", self.test_labels[i], predicted_label)\n",
    "            self.op_labels.append(predicted_label)\n",
    "\n",
    "        return self.op_labels\n",
    "    \n",
    "    def CM(self, k):\n",
    "        labels = len(np.unique(self.train_labels))\n",
    "        corrects = 0\n",
    "\n",
    "        print(f\"with k = {k}\")\n",
    "        for i in range(self.test_records):\n",
    "            GT_label = [j for j, label in enumerate(np.unique(self.train_labels)) if self.test_labels[i] == label][0]\n",
    "            PL_label = [j for j, label in enumerate(np.unique(self.train_labels)) if self.op_labels[i] == label][0]\n",
    "            self.confusionMatrix[GT_label][PL_label] += 1\n",
    "\n",
    "        self.printLine()\n",
    "        print(f\"tt = {self.test_records:5d}|\", end=\"\")\n",
    "        for i in range(labels):\n",
    "            print(f\" PL = {np.unique(self.train_labels)[i]:3d}|\", end=\"\")\n",
    "        print(\"\\n\")\n",
    "        self.printLine()\n",
    "\n",
    "        for i in range(labels):\n",
    "            print(f\" GT = {np.unique(self.train_labels)[i]:3d} |\", end=\"\")\n",
    "            for j in range(labels):\n",
    "                print(f\"    {self.confusionMatrix[i][j]:3d}  |\", end=\"\")\n",
    "            print(\"\\n\")\n",
    "            self.printLine()\n",
    "\n",
    "        corrects = np.sum(np.diag(self.confusionMatrix))\n",
    "        accuracy = corrects / self.test_records\n",
    "        print(f\"accuracy = {accuracy:.2f}\\n\\n\")\n",
    "\n",
    "\n",
    "    def printLine(self):\n",
    "        print(\"----------|\", end=\"\")\n",
    "        for _ in range(len(np.unique(self.train_labels))):\n",
    "            print(\"---------|\", end=\"\")\n",
    "        print(\"\\n\")\n",
    "\n",
    "# distances = list()\n",
    "            \n",
    "#             for j in range(self.train_records):\n",
    "#                 dist = self.eucledianDistance(self.train_datas[j], self.test_datas[i])\n",
    "                \n",
    "#                 # Thêm cả chỉ mục j và distances vào point_dist\n",
    "#                 distances.append((j, dist))\n",
    "            \n",
    "#             distances = np.array(distances)"
   ]
  },
  {
   "cell_type": "code",
   "execution_count": 63,
   "metadata": {},
   "outputs": [],
   "source": [
    "train_dt = pd.read_csv(\"mnist_train.csv\")\n",
    "\n",
    "test_dt = pd.read_csv(\"mnist_test.csv\")\n",
    "\n",
    "X_train = train_dt.iloc[:, 1:].values\n",
    "y_train = train_dt.iloc[:, 0].values\n",
    "\n",
    "X_test = test_dt.iloc[:, 1:].values\n",
    "y_test = test_dt.iloc[:, 0].values"
   ]
  },
  {
   "cell_type": "code",
   "execution_count": 123,
   "metadata": {},
   "outputs": [],
   "source": [
    "newKNN = KNearestNeighbors()"
   ]
  },
  {
   "cell_type": "code",
   "execution_count": 124,
   "metadata": {},
   "outputs": [],
   "source": [
    "newKNN.init(train_img, y_train, test_img, y_test)"
   ]
  },
  {
   "cell_type": "code",
   "execution_count": 125,
   "metadata": {},
   "outputs": [],
   "source": [
    "# k - num_samples\n",
    "arr = newKNN.predict(1, 10000)"
   ]
  },
  {
   "cell_type": "code",
   "execution_count": 140,
   "metadata": {},
   "outputs": [
    {
     "name": "stdout",
     "output_type": "stream",
     "text": [
      "Number of misclassified samples: 306\n",
      "Misclassified samples:\n",
      "      Actual  Predicted  Index\n",
      "115        4          9    115\n",
      "195        3          5    195\n",
      "241        9          8    241\n",
      "268        8          5    268\n",
      "300        4          1    300\n",
      "...      ...        ...    ...\n",
      "9879       0          6   9879\n",
      "9883       5          1   9883\n",
      "9904       2          0   9904\n",
      "9905       3          9   9905\n",
      "9982       5          3   9982\n",
      "\n",
      "[309 rows x 3 columns]\n"
     ]
    }
   ],
   "source": [
    "# arr\n",
    "misclassified_samples = newKNN.test_datas[newKNN.test_labels != newKNN.op_labels]\n",
    "misclassified_data = pd.DataFrame({\n",
    "    'Actual': y_test[y_test != y_pred],\n",
    "    'Predicted': y_pred[y_test != y_pred],\n",
    "    'Index': y_test[y_test != y_pred].index\n",
    "})\n",
    "# In số lượng mẫu dự đoán sai và hiển thị một số mẫu\n",
    "print(f'Number of misclassified samples: {len(misclassified_samples)}')\n",
    "print('Misclassified samples:')\n",
    "print(misclassified_data)\n"
   ]
  },
  {
   "cell_type": "code",
   "execution_count": 202,
   "metadata": {},
   "outputs": [
    {
     "name": "stderr",
     "output_type": "stream",
     "text": [
      "c:\\Users\\HP\\anaconda3\\Lib\\site-packages\\seaborn\\_oldcore.py:1498: FutureWarning: is_categorical_dtype is deprecated and will be removed in a future version. Use isinstance(dtype, CategoricalDtype) instead\n",
      "  if pd.api.types.is_categorical_dtype(vector):\n",
      "c:\\Users\\HP\\anaconda3\\Lib\\site-packages\\seaborn\\_oldcore.py:1498: FutureWarning: is_categorical_dtype is deprecated and will be removed in a future version. Use isinstance(dtype, CategoricalDtype) instead\n",
      "  if pd.api.types.is_categorical_dtype(vector):\n",
      "c:\\Users\\HP\\anaconda3\\Lib\\site-packages\\seaborn\\_oldcore.py:1498: FutureWarning: is_categorical_dtype is deprecated and will be removed in a future version. Use isinstance(dtype, CategoricalDtype) instead\n",
      "  if pd.api.types.is_categorical_dtype(vector):\n",
      "c:\\Users\\HP\\anaconda3\\Lib\\site-packages\\seaborn\\_oldcore.py:1498: FutureWarning: is_categorical_dtype is deprecated and will be removed in a future version. Use isinstance(dtype, CategoricalDtype) instead\n",
      "  if pd.api.types.is_categorical_dtype(vector):\n",
      "c:\\Users\\HP\\anaconda3\\Lib\\site-packages\\seaborn\\_oldcore.py:1498: FutureWarning: is_categorical_dtype is deprecated and will be removed in a future version. Use isinstance(dtype, CategoricalDtype) instead\n",
      "  if pd.api.types.is_categorical_dtype(vector):\n",
      "c:\\Users\\HP\\anaconda3\\Lib\\site-packages\\seaborn\\_oldcore.py:1498: FutureWarning: is_categorical_dtype is deprecated and will be removed in a future version. Use isinstance(dtype, CategoricalDtype) instead\n",
      "  if pd.api.types.is_categorical_dtype(vector):\n"
     ]
    },
    {
     "data": {
      "image/png": "[encoded data removed]",
      "text/plain": [
       "<Figure size 1200x800 with 1 Axes>"
      ]
     },
     "metadata": {},
     "output_type": "display_data"
    }
   ],
   "source": [
    "import pandas as pd\n",
    "import matplotlib.pyplot as plt\n",
    "import seaborn as sns\n",
    "from sklearn.metrics import confusion_matrix\n",
    "\n",
    "# Lấy dữ liệu mẫu bị phân loại sai\n",
    "# misclassified_samples = newKNN.test_datas[newKNN.test_labels != newKNN.op_labels]\n",
    "\n",
    "# # Tạo DataFrame với thông tin mẫu bị phân loại sai\n",
    "# misclassified_data = pd.DataFrame({\n",
    "#     'Actual': y_test[y_test != y_pred],\n",
    "#     'Predicted': y_pred[y_test != y_pred],\n",
    "#     'Index': y_test[y_test != y_pred].index\n",
    "# })\n",
    "\n",
    "# Tính ma trận nhầm lẫn\n",
    "conf_matrix = confusion_matrix(y_test, y_pred)\n",
    "\n",
    "# Tính tỉ lệ đúng và sai cho từng loại nhãn\n",
    "accuracy_by_label = np.diag(conf_matrix) / np.sum(conf_matrix, axis=1)\n",
    "misclassification_by_label = 1 - accuracy_by_label\n",
    "\n",
    "# Tạo DataFrame từ kết quả\n",
    "results_df = pd.DataFrame({\n",
    "    'Label': range(10),\n",
    "    'Accuracy': accuracy_by_label,\n",
    "    'Misclassification Rate': misclassification_by_label\n",
    "})\n",
    "\n",
    "# Vẽ biểu đồ\n",
    "plt.figure(figsize=(12, 8))\n",
    "\n",
    "# Biểu đồ tỉ lệ đúng\n",
    "sns.barplot(x='Label', y='Accuracy', data=results_df, color='blue', label='Accuracy')\n",
    "for i, value in enumerate(results_df['Accuracy']):\n",
    "    plt.text(i, value + 0.01, f'{value:.2f}', ha='center', va='bottom')\n",
    "\n",
    "# Biểu đồ tỉ lệ sai\n",
    "sns.barplot(x='Label', y='Misclassification Rate', data=results_df, color='red', label='Misclassification Rate')\n",
    "for i, value in enumerate(results_df['Misclassification Rate']):\n",
    "    plt.text(i, value + 0.01, f'{value:.2f}', ha='center', va='bottom')\n",
    "\n",
    "plt.title('Accuracy and Misclassification Rate by Label')\n",
    "plt.xlabel('Label')\n",
    "plt.ylabel('Rate')\n",
    "plt.legend()\n",
    "plt.show()\n"
   ]
  },
  {
   "cell_type": "code",
   "execution_count": null,
   "metadata": {},
   "outputs": [],
   "source": [
    "# import matplotlib.pyplot as plt\n",
    "for index, row in misclassified_data.sample(5).iterrows():\n",
    "    actual_label = row['Actual']\n",
    "    predicted_label = row['Predicted']\n",
    "    sample_index = row['Index']\n",
    "    \n",
    "    # Lấy vector dữ liệu của mẫu bị gán nhãn sai\n",
    "    sample_data = X_test.iloc[sample_index].values.reshape(28, 28)\n",
    "    \n",
    "    # Biểu diễn hình ảnh\n",
    "    plt.imshow(sample_data, cmap='gray')\n",
    "    plt.title(f'Actual: {actual_label}, Predicted: {predicted_label}')\n",
    "    plt.show()"
   ]
  },
  {
   "cell_type": "code",
   "execution_count": null,
   "metadata": {},
   "outputs": [],
   "source": []
  },
  {
   "cell_type": "code",
   "execution_count": 126,
   "metadata": {},
   "outputs": [
    {
     "name": "stdout",
     "output_type": "stream",
     "text": [
      "with k = 1\n",
      "----------|---------|---------|---------|---------|---------|---------|---------|---------|---------|---------|\n",
      "\n",
      "tt = 10000| PL =   0| PL =   1| PL =   2| PL =   3| PL =   4| PL =   5| PL =   6| PL =   7| PL =   8| PL =   9|\n",
      "\n",
      "----------|---------|---------|---------|---------|---------|---------|---------|---------|---------|---------|\n",
      "\n",
      " GT =   0 |    974  |      1  |      1  |      0  |      0  |      0  |      2  |      1  |      1  |      0  |\n",
      "\n",
      "----------|---------|---------|---------|---------|---------|---------|---------|---------|---------|---------|\n",
      "\n",
      " GT =   1 |      0  |    1129  |      3  |      0  |      1  |      1  |      1  |      0  |      0  |      0  |\n",
      "\n",
      "----------|---------|---------|---------|---------|---------|---------|---------|---------|---------|---------|\n",
      "\n",
      " GT =   2 |      7  |      3  |    999  |      4  |      1  |      0  |      2  |     13  |      3  |      0  |\n",
      "\n",
      "----------|---------|---------|---------|---------|---------|---------|---------|---------|---------|---------|\n",
      "\n",
      " GT =   3 |      1  |      1  |      3  |    967  |      1  |     17  |      0  |      6  |      9  |      5  |\n",
      "\n",
      "----------|---------|---------|---------|---------|---------|---------|---------|---------|---------|---------|\n",
      "\n",
      " GT =   4 |      0  |      5  |      0  |      0  |    943  |      0  |      3  |      5  |      2  |     24  |\n",
      "\n",
      "----------|---------|---------|---------|---------|---------|---------|---------|---------|---------|---------|\n",
      "\n",
      " GT =   5 |      1  |      1  |      0  |     11  |      2  |    860  |      6  |      1  |      7  |      3  |\n",
      "\n",
      "----------|---------|---------|---------|---------|---------|---------|---------|---------|---------|---------|\n",
      "\n",
      " GT =   6 |      3  |      3  |      0  |      0  |      3  |      5  |    944  |      0  |      0  |      0  |\n",
      "\n",
      "----------|---------|---------|---------|---------|---------|---------|---------|---------|---------|---------|\n",
      "\n",
      " GT =   7 |      0  |     15  |      6  |      2  |      5  |      0  |      0  |    993  |      0  |      7  |\n",
      "\n",
      "----------|---------|---------|---------|---------|---------|---------|---------|---------|---------|---------|\n",
      "\n",
      " GT =   8 |      4  |      1  |      2  |     16  |      5  |     11  |      3  |      4  |    923  |      5  |\n",
      "\n",
      "----------|---------|---------|---------|---------|---------|---------|---------|---------|---------|---------|\n",
      "\n",
      " GT =   9 |      2  |      4  |      0  |      6  |     14  |      6  |      1  |     13  |      1  |    962  |\n",
      "\n",
      "----------|---------|---------|---------|---------|---------|---------|---------|---------|---------|---------|\n",
      "\n",
      "accuracy = 0.97\n",
      "\n",
      "\n"
     ]
    }
   ],
   "source": [
    "newKNN.CM(1)\n"
   ]
  }
 ],
 "metadata": {
  "kernelspec": {
   "display_name": "base",
   "language": "python",
   "name": "python3"
  },
  "language_info": {
   "codemirror_mode": {
    "name": "ipython",
    "version": 3
   },
   "file_extension": ".py",
   "mimetype": "text/x-python",
   "name": "python",
   "nbconvert_exporter": "python",
   "pygments_lexer": "ipython3",
   "version": "3.11.5"
  }
 },
 "nbformat": 4,
 "nbformat_minor": 2
}
