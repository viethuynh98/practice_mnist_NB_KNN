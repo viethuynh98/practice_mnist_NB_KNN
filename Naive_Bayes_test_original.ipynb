{
 "cells": [
  {
   "cell_type": "markdown",
   "metadata": {},
   "source": [
    "Built-in sklearn-KNN"
   ]
  },
  {
   "cell_type": "code",
   "execution_count": null,
   "metadata": {},
   "outputs": [],
   "source": [
    "import pandas as pd\n",
    "from sklearn.neighbors import KNeighborsClassifier\n",
    "from sklearn.metrics import accuracy_score\n",
    "\n",
    "#đọc dữ liệu\n",
    "train_dt = pd.read_csv(\"mnist_train.csv\")\n",
    "\n",
    "test_dt = pd.read_csv(\"mnist_test.csv\")\n",
    "\n",
    "#chia dữ liệu\n",
    "X_train = train_dt.drop('label', axis=1)\n",
    "y_train = train_dt['label']\n",
    "\n",
    "X_test = test_dt.drop('label', axis=1)\n",
    "y_test = test_dt['label']\n",
    "\n",
    "#knn model\n",
    "knn_model = KNeighborsClassifier(n_neighbors=1)\n",
    "knn_model.fit(X_train, y_train)\n",
    "\n",
    "#prediction\n",
    "y_pred = knn_model.predict(X_test)\n",
    "\n",
    "\n",
    "\n"
   ]
  },
  {
   "cell_type": "code",
   "execution_count": 25,
   "metadata": {},
   "outputs": [
    {
     "name": "stdout",
     "output_type": "stream",
     "text": [
      "Accuracy: 0.9691\n",
      "Number of misclassified samples: 309\n"
     ]
    },
    {
     "name": "stderr",
     "output_type": "stream",
     "text": [
      "c:\\Users\\HP\\anaconda3\\Lib\\site-packages\\sklearn\\utils\\validation.py:605: FutureWarning: is_sparse is deprecated and will be removed in a future version. Check `isinstance(dtype, pd.SparseDtype)` instead.\n",
      "  if is_sparse(pd_dtype):\n",
      "c:\\Users\\HP\\anaconda3\\Lib\\site-packages\\sklearn\\utils\\validation.py:614: FutureWarning: is_sparse is deprecated and will be removed in a future version. Check `isinstance(dtype, pd.SparseDtype)` instead.\n",
      "  if is_sparse(pd_dtype) or not is_extension_array_dtype(pd_dtype):\n",
      "c:\\Users\\HP\\anaconda3\\Lib\\site-packages\\sklearn\\utils\\validation.py:605: FutureWarning: is_sparse is deprecated and will be removed in a future version. Check `isinstance(dtype, pd.SparseDtype)` instead.\n",
      "  if is_sparse(pd_dtype):\n",
      "c:\\Users\\HP\\anaconda3\\Lib\\site-packages\\sklearn\\utils\\validation.py:614: FutureWarning: is_sparse is deprecated and will be removed in a future version. Check `isinstance(dtype, pd.SparseDtype)` instead.\n",
      "  if is_sparse(pd_dtype) or not is_extension_array_dtype(pd_dtype):\n",
      "c:\\Users\\HP\\anaconda3\\Lib\\site-packages\\sklearn\\utils\\validation.py:605: FutureWarning: is_sparse is deprecated and will be removed in a future version. Check `isinstance(dtype, pd.SparseDtype)` instead.\n",
      "  if is_sparse(pd_dtype):\n",
      "c:\\Users\\HP\\anaconda3\\Lib\\site-packages\\sklearn\\utils\\validation.py:614: FutureWarning: is_sparse is deprecated and will be removed in a future version. Check `isinstance(dtype, pd.SparseDtype)` instead.\n",
      "  if is_sparse(pd_dtype) or not is_extension_array_dtype(pd_dtype):\n"
     ]
    }
   ],
   "source": [
    "#accuracy\n",
    "accuracy = accuracy_score(y_test, y_pred)\n",
    "print(f'Accuracy: {accuracy}')\n",
    "\n",
    "#Các mẫu dự đoán sai\n",
    "misclassified_samples = X_test[y_test != y_pred]\n",
    "\n",
    "print(f'Number of misclassified samples: {len(misclassified_samples)}')"
   ]
  },
  {
   "cell_type": "markdown",
   "metadata": {},
   "source": [
    "Import Libraries"
   ]
  },
  {
   "cell_type": "code",
   "execution_count": 1,
   "metadata": {},
   "outputs": [],
   "source": [
    "import numpy as np\n",
    "import pandas as pd\n",
    "import matplotlib.pyplot as plt\n",
    "%matplotlib inline\n",
    "import seaborn as sns"
   ]
  },
  {
   "cell_type": "markdown",
   "metadata": {},
   "source": [
    "Import Datas"
   ]
  },
  {
   "cell_type": "code",
   "execution_count": 2,
   "metadata": {},
   "outputs": [],
   "source": [
    "train_dt = pd.read_csv(\"mnist_train.csv\")"
   ]
  },
  {
   "cell_type": "code",
   "execution_count": 3,
   "metadata": {},
   "outputs": [],
   "source": [
    "test_dt = pd.read_csv(\"mnist_test.csv\")"
   ]
  },
  {
   "cell_type": "code",
   "execution_count": 4,
   "metadata": {},
   "outputs": [],
   "source": [
    "X_train = train_dt.iloc[:, 1:].values\n",
    "y_train = train_dt.iloc[:, 0].values\n",
    "\n",
    "X_test = test_dt.iloc[:, 1:].values\n",
    "y_test = test_dt.iloc[:, 0].values"
   ]
  },
  {
   "cell_type": "code",
   "execution_count": 5,
   "metadata": {},
   "outputs": [
    {
     "name": "stdout",
     "output_type": "stream",
     "text": [
      "Số lượng class trong bộ dữ liệu: 10\n"
     ]
    }
   ],
   "source": [
    "unique_classes = np.unique(y_train)\n",
    "\n",
    "num_classes = len(unique_classes)\n",
    "\n",
    "print(f\"Số lượng class trong bộ dữ liệu: {num_classes}\")"
   ]
  },
  {
   "cell_type": "code",
   "execution_count": 6,
   "metadata": {},
   "outputs": [
    {
     "name": "stdout",
     "output_type": "stream",
     "text": [
      "X_train shape (60000, 784)\n",
      "y_train shape (60000,)\n",
      "X_test shape (10000, 784)\n",
      "y_test shape (10000,)\n"
     ]
    }
   ],
   "source": [
    "print(\"X_train shape\", X_train.shape)\n",
    "print(\"y_train shape\", y_train.shape)\n",
    "print(\"X_test shape\", X_test.shape)\n",
    "print(\"y_test shape\", y_test.shape)"
   ]
  },
  {
   "cell_type": "code",
   "execution_count": 12,
   "metadata": {},
   "outputs": [
    {
     "data": {
      "text/plain": [
       "dtype('int64')"
      ]
     },
     "execution_count": 12,
     "metadata": {},
     "output_type": "execute_result"
    }
   ],
   "source": [
    "y_train.dtype"
   ]
  },
  {
   "cell_type": "code",
   "execution_count": null,
   "metadata": {},
   "outputs": [],
   "source": [
    "dir(np)"
   ]
  },
  {
   "cell_type": "code",
   "execution_count": 7,
   "metadata": {},
   "outputs": [],
   "source": [
    "X_train = X_train.astype(\"float32\")\n",
    "X_test = X_test.astype(\"float32\")"
   ]
  },
  {
   "cell_type": "code",
   "execution_count": 11,
   "metadata": {},
   "outputs": [
    {
     "name": "stdout",
     "output_type": "stream",
     "text": [
      "Training matrix shape (60000, 784)\n",
      "Testing matrix shape (10000, 784)\n"
     ]
    }
   ],
   "source": [
    "print(\"Training matrix shape\", X_train.shape)\n",
    "print(\"Testing matrix shape\", X_test.shape)"
   ]
  },
  {
   "cell_type": "markdown",
   "metadata": {},
   "source": [
    "Standardization"
   ]
  },
  {
   "cell_type": "code",
   "execution_count": 165,
   "metadata": {},
   "outputs": [],
   "source": [
    "from sklearn.preprocessing import StandardScaler\n",
    "# z = (x - mean) / std\n",
    "X_train = StandardScaler().fit_transform(X_train)\n",
    "\n",
    "X_test = StandardScaler().fit_transform(X_test)"
   ]
  },
  {
   "cell_type": "markdown",
   "metadata": {},
   "source": [
    "user-defined PCA"
   ]
  },
  {
   "cell_type": "code",
   "execution_count": 15,
   "metadata": {},
   "outputs": [],
   "source": [
    "import numpy as np\n",
    " \n",
    "def PCA_defined(X, num_components):\n",
    "    \n",
    "    #Step-1\n",
    "    X_meaned = X - np.mean(X , axis = 0)\n",
    "    \n",
    "    #Step-2\n",
    "    cov_mat = np.cov(X_meaned , rowvar = False)\n",
    "    \n",
    "    #Step-3\n",
    "    eigen_values , eigen_vectors = np.linalg.eigh(cov_mat)\n",
    "    \n",
    "    #Step-4\n",
    "    sorted_index = np.argsort(eigen_values)[::-1]\n",
    "    # sorted_eigenvalue = eigen_values[sorted_index]\n",
    "    sorted_eigenvectors = eigen_vectors[:,sorted_index]\n",
    "    \n",
    "    #Step-5\n",
    "    eigenvector_subset = sorted_eigenvectors[:,0:num_components]\n",
    "    \n",
    "    #Step-6\n",
    "    X_reduced = np.dot(eigenvector_subset.transpose() , X_meaned.transpose() ).transpose()\n",
    "    \n",
    "    return X_reduced"
   ]
  },
  {
   "cell_type": "code",
   "execution_count": 16,
   "metadata": {},
   "outputs": [],
   "source": [
    "mat_reduced = PCA_defined(X_train, 2)\n",
    "principal_df = pd.DataFrame(mat_reduced)\n",
    "principal_df['label'] = train_dt['label']\n",
    "# principal_df = pd.concat([principal_df , pd.DataFrame(target)] , axis = 1)"
   ]
  },
  {
   "cell_type": "code",
   "execution_count": 17,
   "metadata": {},
   "outputs": [
    {
     "data": {
      "text/html": [
       "<div>\n",
       "<style scoped>\n",
       "    .dataframe tbody tr th:only-of-type {\n",
       "        vertical-align: middle;\n",
       "    }\n",
       "\n",
       "    .dataframe tbody tr th {\n",
       "        vertical-align: top;\n",
       "    }\n",
       "\n",
       "    .dataframe thead th {\n",
       "        text-align: right;\n",
       "    }\n",
       "</style>\n",
       "<table border=\"1\" class=\"dataframe\">\n",
       "  <thead>\n",
       "    <tr style=\"text-align: right;\">\n",
       "      <th></th>\n",
       "      <th>0</th>\n",
       "      <th>1</th>\n",
       "      <th>label</th>\n",
       "    </tr>\n",
       "  </thead>\n",
       "  <tbody>\n",
       "    <tr>\n",
       "      <th>0</th>\n",
       "      <td>-123.932589</td>\n",
       "      <td>-312.674276</td>\n",
       "      <td>5</td>\n",
       "    </tr>\n",
       "    <tr>\n",
       "      <th>1</th>\n",
       "      <td>-1011.718385</td>\n",
       "      <td>-294.857042</td>\n",
       "      <td>0</td>\n",
       "    </tr>\n",
       "    <tr>\n",
       "      <th>2</th>\n",
       "      <td>51.849601</td>\n",
       "      <td>392.173162</td>\n",
       "      <td>4</td>\n",
       "    </tr>\n",
       "    <tr>\n",
       "      <th>3</th>\n",
       "      <td>799.127040</td>\n",
       "      <td>-607.197205</td>\n",
       "      <td>1</td>\n",
       "    </tr>\n",
       "    <tr>\n",
       "      <th>4</th>\n",
       "      <td>382.754928</td>\n",
       "      <td>730.542876</td>\n",
       "      <td>9</td>\n",
       "    </tr>\n",
       "    <tr>\n",
       "      <th>...</th>\n",
       "      <td>...</td>\n",
       "      <td>...</td>\n",
       "      <td>...</td>\n",
       "    </tr>\n",
       "    <tr>\n",
       "      <th>59995</th>\n",
       "      <td>99.621771</td>\n",
       "      <td>-293.475560</td>\n",
       "      <td>8</td>\n",
       "    </tr>\n",
       "    <tr>\n",
       "      <th>59996</th>\n",
       "      <td>-152.757809</td>\n",
       "      <td>-687.899717</td>\n",
       "      <td>3</td>\n",
       "    </tr>\n",
       "    <tr>\n",
       "      <th>59997</th>\n",
       "      <td>178.053447</td>\n",
       "      <td>160.078207</td>\n",
       "      <td>5</td>\n",
       "    </tr>\n",
       "    <tr>\n",
       "      <th>59998</th>\n",
       "      <td>-130.606072</td>\n",
       "      <td>-5.591926</td>\n",
       "      <td>6</td>\n",
       "    </tr>\n",
       "    <tr>\n",
       "      <th>59999</th>\n",
       "      <td>173.435955</td>\n",
       "      <td>-24.718798</td>\n",
       "      <td>8</td>\n",
       "    </tr>\n",
       "  </tbody>\n",
       "</table>\n",
       "<p>60000 rows × 3 columns</p>\n",
       "</div>"
      ],
      "text/plain": [
       "                 0           1  label\n",
       "0      -123.932589 -312.674276      5\n",
       "1     -1011.718385 -294.857042      0\n",
       "2        51.849601  392.173162      4\n",
       "3       799.127040 -607.197205      1\n",
       "4       382.754928  730.542876      9\n",
       "...            ...         ...    ...\n",
       "59995    99.621771 -293.475560      8\n",
       "59996  -152.757809 -687.899717      3\n",
       "59997   178.053447  160.078207      5\n",
       "59998  -130.606072   -5.591926      6\n",
       "59999   173.435955  -24.718798      8\n",
       "\n",
       "[60000 rows x 3 columns]"
      ]
     },
     "execution_count": 17,
     "metadata": {},
     "output_type": "execute_result"
    }
   ],
   "source": [
    "principal_df"
   ]
  },
  {
   "cell_type": "markdown",
   "metadata": {},
   "source": [
    "Built-in sklearn-PCA"
   ]
  },
  {
   "cell_type": "code",
   "execution_count": 8,
   "metadata": {},
   "outputs": [
    {
     "data": {
      "text/html": [
       "<style>#sk-container-id-1 {color: black;background-color: white;}#sk-container-id-1 pre{padding: 0;}#sk-container-id-1 div.sk-toggleable {background-color: white;}#sk-container-id-1 label.sk-toggleable__label {cursor: pointer;display: block;width: 100%;margin-bottom: 0;padding: 0.3em;box-sizing: border-box;text-align: center;}#sk-container-id-1 label.sk-toggleable__label-arrow:before {content: \"▸\";float: left;margin-right: 0.25em;color: #696969;}#sk-container-id-1 label.sk-toggleable__label-arrow:hover:before {color: black;}#sk-container-id-1 div.sk-estimator:hover label.sk-toggleable__label-arrow:before {color: black;}#sk-container-id-1 div.sk-toggleable__content {max-height: 0;max-width: 0;overflow: hidden;text-align: left;background-color: #f0f8ff;}#sk-container-id-1 div.sk-toggleable__content pre {margin: 0.2em;color: black;border-radius: 0.25em;background-color: #f0f8ff;}#sk-container-id-1 input.sk-toggleable__control:checked~div.sk-toggleable__content {max-height: 200px;max-width: 100%;overflow: auto;}#sk-container-id-1 input.sk-toggleable__control:checked~label.sk-toggleable__label-arrow:before {content: \"▾\";}#sk-container-id-1 div.sk-estimator input.sk-toggleable__control:checked~label.sk-toggleable__label {background-color: #d4ebff;}#sk-container-id-1 div.sk-label input.sk-toggleable__control:checked~label.sk-toggleable__label {background-color: #d4ebff;}#sk-container-id-1 input.sk-hidden--visually {border: 0;clip: rect(1px 1px 1px 1px);clip: rect(1px, 1px, 1px, 1px);height: 1px;margin: -1px;overflow: hidden;padding: 0;position: absolute;width: 1px;}#sk-container-id-1 div.sk-estimator {font-family: monospace;background-color: #f0f8ff;border: 1px dotted black;border-radius: 0.25em;box-sizing: border-box;margin-bottom: 0.5em;}#sk-container-id-1 div.sk-estimator:hover {background-color: #d4ebff;}#sk-container-id-1 div.sk-parallel-item::after {content: \"\";width: 100%;border-bottom: 1px solid gray;flex-grow: 1;}#sk-container-id-1 div.sk-label:hover label.sk-toggleable__label {background-color: #d4ebff;}#sk-container-id-1 div.sk-serial::before {content: \"\";position: absolute;border-left: 1px solid gray;box-sizing: border-box;top: 0;bottom: 0;left: 50%;z-index: 0;}#sk-container-id-1 div.sk-serial {display: flex;flex-direction: column;align-items: center;background-color: white;padding-right: 0.2em;padding-left: 0.2em;position: relative;}#sk-container-id-1 div.sk-item {position: relative;z-index: 1;}#sk-container-id-1 div.sk-parallel {display: flex;align-items: stretch;justify-content: center;background-color: white;position: relative;}#sk-container-id-1 div.sk-item::before, #sk-container-id-1 div.sk-parallel-item::before {content: \"\";position: absolute;border-left: 1px solid gray;box-sizing: border-box;top: 0;bottom: 0;left: 50%;z-index: -1;}#sk-container-id-1 div.sk-parallel-item {display: flex;flex-direction: column;z-index: 1;position: relative;background-color: white;}#sk-container-id-1 div.sk-parallel-item:first-child::after {align-self: flex-end;width: 50%;}#sk-container-id-1 div.sk-parallel-item:last-child::after {align-self: flex-start;width: 50%;}#sk-container-id-1 div.sk-parallel-item:only-child::after {width: 0;}#sk-container-id-1 div.sk-dashed-wrapped {border: 1px dashed gray;margin: 0 0.4em 0.5em 0.4em;box-sizing: border-box;padding-bottom: 0.4em;background-color: white;}#sk-container-id-1 div.sk-label label {font-family: monospace;font-weight: bold;display: inline-block;line-height: 1.2em;}#sk-container-id-1 div.sk-label-container {text-align: center;}#sk-container-id-1 div.sk-container {/* jupyter's `normalize.less` sets `[hidden] { display: none; }` but bootstrap.min.css set `[hidden] { display: none !important; }` so we also need the `!important` here to be able to override the default hidden behavior on the sphinx rendered scikit-learn.org. See: https://github.com/scikit-learn/scikit-learn/issues/21755 */display: inline-block !important;position: relative;}#sk-container-id-1 div.sk-text-repr-fallback {display: none;}</style><div id=\"sk-container-id-1\" class=\"sk-top-container\"><div class=\"sk-text-repr-fallback\"><pre>PCA(n_components=2)</pre><b>In a Jupyter environment, please rerun this cell to show the HTML representation or trust the notebook. <br />On GitHub, the HTML representation is unable to render, please try loading this page with nbviewer.org.</b></div><div class=\"sk-container\" hidden><div class=\"sk-item\"><div class=\"sk-estimator sk-toggleable\"><input class=\"sk-toggleable__control sk-hidden--visually\" id=\"sk-estimator-id-1\" type=\"checkbox\" checked><label for=\"sk-estimator-id-1\" class=\"sk-toggleable__label sk-toggleable__label-arrow\">PCA</label><div class=\"sk-toggleable__content\"><pre>PCA(n_components=2)</pre></div></div></div></div></div>"
      ],
      "text/plain": [
       "PCA(n_components=2)"
      ]
     },
     "execution_count": 8,
     "metadata": {},
     "output_type": "execute_result"
    }
   ],
   "source": [
    "from sklearn.decomposition import PCA\n",
    "pca = PCA(n_components=2)\n",
    "pca.fit(X_train)"
   ]
  },
  {
   "cell_type": "code",
   "execution_count": 177,
   "metadata": {},
   "outputs": [
    {
     "data": {
      "text/plain": [
       "array([[0, 0, 0, ..., 0, 0, 0],\n",
       "       [0, 0, 0, ..., 0, 0, 0],\n",
       "       [0, 0, 0, ..., 0, 0, 0],\n",
       "       ...,\n",
       "       [0, 0, 0, ..., 0, 0, 0],\n",
       "       [0, 0, 0, ..., 0, 0, 0],\n",
       "       [0, 0, 0, ..., 0, 0, 0]], dtype=int64)"
      ]
     },
     "execution_count": 177,
     "metadata": {},
     "output_type": "execute_result"
    }
   ],
   "source": [
    "X_train"
   ]
  },
  {
   "cell_type": "code",
   "execution_count": 9,
   "metadata": {},
   "outputs": [
    {
     "name": "stdout",
     "output_type": "stream",
     "text": [
      "Total number of components used after PCA : 2\n"
     ]
    }
   ],
   "source": [
    "print(f\"Total number of components used after PCA : {pca.n_components_}\")"
   ]
  },
  {
   "cell_type": "code",
   "execution_count": 10,
   "metadata": {},
   "outputs": [
    {
     "name": "stdout",
     "output_type": "stream",
     "text": [
      "train_img shape : (60000, 2)\n",
      "test_img shape : (10000, 2)\n"
     ]
    }
   ],
   "source": [
    "train_img = pca.transform(X_train)\n",
    "test_img = pca.transform(X_test)\n",
    "\n",
    "print(f\"train_img shape : {train_img.shape}\")\n",
    "print(f\"test_img shape : {test_img.shape}\")"
   ]
  },
  {
   "cell_type": "markdown",
   "metadata": {},
   "source": [
    "Built-in sklearn-MultinomialNB"
   ]
  },
  {
   "cell_type": "code",
   "execution_count": 11,
   "metadata": {},
   "outputs": [],
   "source": [
    "from sklearn.naive_bayes import MultinomialNB\n",
    "from sklearn.metrics import accuracy_score, classification_report, confusion_matrix"
   ]
  },
  {
   "cell_type": "code",
   "execution_count": 12,
   "metadata": {},
   "outputs": [],
   "source": [
    "model = MultinomialNB()"
   ]
  },
  {
   "cell_type": "code",
   "execution_count": 13,
   "metadata": {},
   "outputs": [
    {
     "data": {
      "text/html": [
       "<style>#sk-container-id-2 {color: black;background-color: white;}#sk-container-id-2 pre{padding: 0;}#sk-container-id-2 div.sk-toggleable {background-color: white;}#sk-container-id-2 label.sk-toggleable__label {cursor: pointer;display: block;width: 100%;margin-bottom: 0;padding: 0.3em;box-sizing: border-box;text-align: center;}#sk-container-id-2 label.sk-toggleable__label-arrow:before {content: \"▸\";float: left;margin-right: 0.25em;color: #696969;}#sk-container-id-2 label.sk-toggleable__label-arrow:hover:before {color: black;}#sk-container-id-2 div.sk-estimator:hover label.sk-toggleable__label-arrow:before {color: black;}#sk-container-id-2 div.sk-toggleable__content {max-height: 0;max-width: 0;overflow: hidden;text-align: left;background-color: #f0f8ff;}#sk-container-id-2 div.sk-toggleable__content pre {margin: 0.2em;color: black;border-radius: 0.25em;background-color: #f0f8ff;}#sk-container-id-2 input.sk-toggleable__control:checked~div.sk-toggleable__content {max-height: 200px;max-width: 100%;overflow: auto;}#sk-container-id-2 input.sk-toggleable__control:checked~label.sk-toggleable__label-arrow:before {content: \"▾\";}#sk-container-id-2 div.sk-estimator input.sk-toggleable__control:checked~label.sk-toggleable__label {background-color: #d4ebff;}#sk-container-id-2 div.sk-label input.sk-toggleable__control:checked~label.sk-toggleable__label {background-color: #d4ebff;}#sk-container-id-2 input.sk-hidden--visually {border: 0;clip: rect(1px 1px 1px 1px);clip: rect(1px, 1px, 1px, 1px);height: 1px;margin: -1px;overflow: hidden;padding: 0;position: absolute;width: 1px;}#sk-container-id-2 div.sk-estimator {font-family: monospace;background-color: #f0f8ff;border: 1px dotted black;border-radius: 0.25em;box-sizing: border-box;margin-bottom: 0.5em;}#sk-container-id-2 div.sk-estimator:hover {background-color: #d4ebff;}#sk-container-id-2 div.sk-parallel-item::after {content: \"\";width: 100%;border-bottom: 1px solid gray;flex-grow: 1;}#sk-container-id-2 div.sk-label:hover label.sk-toggleable__label {background-color: #d4ebff;}#sk-container-id-2 div.sk-serial::before {content: \"\";position: absolute;border-left: 1px solid gray;box-sizing: border-box;top: 0;bottom: 0;left: 50%;z-index: 0;}#sk-container-id-2 div.sk-serial {display: flex;flex-direction: column;align-items: center;background-color: white;padding-right: 0.2em;padding-left: 0.2em;position: relative;}#sk-container-id-2 div.sk-item {position: relative;z-index: 1;}#sk-container-id-2 div.sk-parallel {display: flex;align-items: stretch;justify-content: center;background-color: white;position: relative;}#sk-container-id-2 div.sk-item::before, #sk-container-id-2 div.sk-parallel-item::before {content: \"\";position: absolute;border-left: 1px solid gray;box-sizing: border-box;top: 0;bottom: 0;left: 50%;z-index: -1;}#sk-container-id-2 div.sk-parallel-item {display: flex;flex-direction: column;z-index: 1;position: relative;background-color: white;}#sk-container-id-2 div.sk-parallel-item:first-child::after {align-self: flex-end;width: 50%;}#sk-container-id-2 div.sk-parallel-item:last-child::after {align-self: flex-start;width: 50%;}#sk-container-id-2 div.sk-parallel-item:only-child::after {width: 0;}#sk-container-id-2 div.sk-dashed-wrapped {border: 1px dashed gray;margin: 0 0.4em 0.5em 0.4em;box-sizing: border-box;padding-bottom: 0.4em;background-color: white;}#sk-container-id-2 div.sk-label label {font-family: monospace;font-weight: bold;display: inline-block;line-height: 1.2em;}#sk-container-id-2 div.sk-label-container {text-align: center;}#sk-container-id-2 div.sk-container {/* jupyter's `normalize.less` sets `[hidden] { display: none; }` but bootstrap.min.css set `[hidden] { display: none !important; }` so we also need the `!important` here to be able to override the default hidden behavior on the sphinx rendered scikit-learn.org. See: https://github.com/scikit-learn/scikit-learn/issues/21755 */display: inline-block !important;position: relative;}#sk-container-id-2 div.sk-text-repr-fallback {display: none;}</style><div id=\"sk-container-id-2\" class=\"sk-top-container\"><div class=\"sk-text-repr-fallback\"><pre>MultinomialNB()</pre><b>In a Jupyter environment, please rerun this cell to show the HTML representation or trust the notebook. <br />On GitHub, the HTML representation is unable to render, please try loading this page with nbviewer.org.</b></div><div class=\"sk-container\" hidden><div class=\"sk-item\"><div class=\"sk-estimator sk-toggleable\"><input class=\"sk-toggleable__control sk-hidden--visually\" id=\"sk-estimator-id-2\" type=\"checkbox\" checked><label for=\"sk-estimator-id-2\" class=\"sk-toggleable__label sk-toggleable__label-arrow\">MultinomialNB</label><div class=\"sk-toggleable__content\"><pre>MultinomialNB()</pre></div></div></div></div></div>"
      ],
      "text/plain": [
       "MultinomialNB()"
      ]
     },
     "execution_count": 13,
     "metadata": {},
     "output_type": "execute_result"
    }
   ],
   "source": [
    "model.fit(X_train, y_train)"
   ]
  },
  {
   "cell_type": "code",
   "execution_count": 14,
   "metadata": {},
   "outputs": [],
   "source": [
    "y_pred = model.predict(X_test)"
   ]
  },
  {
   "cell_type": "code",
   "execution_count": 17,
   "metadata": {},
   "outputs": [],
   "source": [
    "accuracy = accuracy_score(y_test, y_pred)\n",
    "conf_matrix = confusion_matrix(y_test, y_pred)\n",
    "classification_rep = classification_report(y_test, y_pred)"
   ]
  },
  {
   "cell_type": "code",
   "execution_count": 18,
   "metadata": {},
   "outputs": [
    {
     "name": "stdout",
     "output_type": "stream",
     "text": [
      "Accuracy: 0.8365\n",
      "\n",
      "Confusion Matrix:\n",
      " [[ 912    0    2    6    1    8   14    1   36    0]\n",
      " [   0 1061    5    9    0    2    6    0   51    1]\n",
      " [  15   11  858   24   10    3   33   11   66    1]\n",
      " [   4   11   34  851    1   21    7   14   40   27]\n",
      " [   2    2    6    0  732    0   25    1   38  176]\n",
      " [  23   11    6  107   18  590   17    6   78   36]\n",
      " [  17   13   17    1    7   25  860    0   18    0]\n",
      " [   1   21   11    5   19    0    1  861   40   69]\n",
      " [   6   26   13   54   14   27    8    9  777   40]\n",
      " [   6    7    3   10   66   10    0   17   27  863]]\n",
      "\n",
      "Classification Report:\n",
      "               precision    recall  f1-score   support\n",
      "\n",
      "           0       0.92      0.93      0.93       980\n",
      "           1       0.91      0.93      0.92      1135\n",
      "           2       0.90      0.83      0.86      1032\n",
      "           3       0.80      0.84      0.82      1010\n",
      "           4       0.84      0.75      0.79       982\n",
      "           5       0.86      0.66      0.75       892\n",
      "           6       0.89      0.90      0.89       958\n",
      "           7       0.94      0.84      0.88      1028\n",
      "           8       0.66      0.80      0.72       974\n",
      "           9       0.71      0.86      0.78      1009\n",
      "\n",
      "    accuracy                           0.84     10000\n",
      "   macro avg       0.84      0.83      0.84     10000\n",
      "weighted avg       0.84      0.84      0.84     10000\n",
      "\n"
     ]
    }
   ],
   "source": [
    "# Hiển thị kết quả\n",
    "print(\"Accuracy:\", accuracy)\n",
    "print(\"\\nConfusion Matrix:\\n\", conf_matrix)\n",
    "print(\"\\nClassification Report:\\n\", classification_rep)"
   ]
  },
  {
   "cell_type": "code",
   "execution_count": 19,
   "metadata": {},
   "outputs": [],
   "source": [
    "from sklearn.neighbors import KNeighborsClassifier"
   ]
  },
  {
   "cell_type": "code",
   "execution_count": 20,
   "metadata": {},
   "outputs": [],
   "source": [
    "model = KNeighborsClassifier(n_neighbors=1)"
   ]
  },
  {
   "cell_type": "code",
   "execution_count": 21,
   "metadata": {},
   "outputs": [
    {
     "data": {
      "text/html": [
       "<style>#sk-container-id-3 {color: black;background-color: white;}#sk-container-id-3 pre{padding: 0;}#sk-container-id-3 div.sk-toggleable {background-color: white;}#sk-container-id-3 label.sk-toggleable__label {cursor: pointer;display: block;width: 100%;margin-bottom: 0;padding: 0.3em;box-sizing: border-box;text-align: center;}#sk-container-id-3 label.sk-toggleable__label-arrow:before {content: \"▸\";float: left;margin-right: 0.25em;color: #696969;}#sk-container-id-3 label.sk-toggleable__label-arrow:hover:before {color: black;}#sk-container-id-3 div.sk-estimator:hover label.sk-toggleable__label-arrow:before {color: black;}#sk-container-id-3 div.sk-toggleable__content {max-height: 0;max-width: 0;overflow: hidden;text-align: left;background-color: #f0f8ff;}#sk-container-id-3 div.sk-toggleable__content pre {margin: 0.2em;color: black;border-radius: 0.25em;background-color: #f0f8ff;}#sk-container-id-3 input.sk-toggleable__control:checked~div.sk-toggleable__content {max-height: 200px;max-width: 100%;overflow: auto;}#sk-container-id-3 input.sk-toggleable__control:checked~label.sk-toggleable__label-arrow:before {content: \"▾\";}#sk-container-id-3 div.sk-estimator input.sk-toggleable__control:checked~label.sk-toggleable__label {background-color: #d4ebff;}#sk-container-id-3 div.sk-label input.sk-toggleable__control:checked~label.sk-toggleable__label {background-color: #d4ebff;}#sk-container-id-3 input.sk-hidden--visually {border: 0;clip: rect(1px 1px 1px 1px);clip: rect(1px, 1px, 1px, 1px);height: 1px;margin: -1px;overflow: hidden;padding: 0;position: absolute;width: 1px;}#sk-container-id-3 div.sk-estimator {font-family: monospace;background-color: #f0f8ff;border: 1px dotted black;border-radius: 0.25em;box-sizing: border-box;margin-bottom: 0.5em;}#sk-container-id-3 div.sk-estimator:hover {background-color: #d4ebff;}#sk-container-id-3 div.sk-parallel-item::after {content: \"\";width: 100%;border-bottom: 1px solid gray;flex-grow: 1;}#sk-container-id-3 div.sk-label:hover label.sk-toggleable__label {background-color: #d4ebff;}#sk-container-id-3 div.sk-serial::before {content: \"\";position: absolute;border-left: 1px solid gray;box-sizing: border-box;top: 0;bottom: 0;left: 50%;z-index: 0;}#sk-container-id-3 div.sk-serial {display: flex;flex-direction: column;align-items: center;background-color: white;padding-right: 0.2em;padding-left: 0.2em;position: relative;}#sk-container-id-3 div.sk-item {position: relative;z-index: 1;}#sk-container-id-3 div.sk-parallel {display: flex;align-items: stretch;justify-content: center;background-color: white;position: relative;}#sk-container-id-3 div.sk-item::before, #sk-container-id-3 div.sk-parallel-item::before {content: \"\";position: absolute;border-left: 1px solid gray;box-sizing: border-box;top: 0;bottom: 0;left: 50%;z-index: -1;}#sk-container-id-3 div.sk-parallel-item {display: flex;flex-direction: column;z-index: 1;position: relative;background-color: white;}#sk-container-id-3 div.sk-parallel-item:first-child::after {align-self: flex-end;width: 50%;}#sk-container-id-3 div.sk-parallel-item:last-child::after {align-self: flex-start;width: 50%;}#sk-container-id-3 div.sk-parallel-item:only-child::after {width: 0;}#sk-container-id-3 div.sk-dashed-wrapped {border: 1px dashed gray;margin: 0 0.4em 0.5em 0.4em;box-sizing: border-box;padding-bottom: 0.4em;background-color: white;}#sk-container-id-3 div.sk-label label {font-family: monospace;font-weight: bold;display: inline-block;line-height: 1.2em;}#sk-container-id-3 div.sk-label-container {text-align: center;}#sk-container-id-3 div.sk-container {/* jupyter's `normalize.less` sets `[hidden] { display: none; }` but bootstrap.min.css set `[hidden] { display: none !important; }` so we also need the `!important` here to be able to override the default hidden behavior on the sphinx rendered scikit-learn.org. See: https://github.com/scikit-learn/scikit-learn/issues/21755 */display: inline-block !important;position: relative;}#sk-container-id-3 div.sk-text-repr-fallback {display: none;}</style><div id=\"sk-container-id-3\" class=\"sk-top-container\"><div class=\"sk-text-repr-fallback\"><pre>KNeighborsClassifier(n_neighbors=1)</pre><b>In a Jupyter environment, please rerun this cell to show the HTML representation or trust the notebook. <br />On GitHub, the HTML representation is unable to render, please try loading this page with nbviewer.org.</b></div><div class=\"sk-container\" hidden><div class=\"sk-item\"><div class=\"sk-estimator sk-toggleable\"><input class=\"sk-toggleable__control sk-hidden--visually\" id=\"sk-estimator-id-3\" type=\"checkbox\" checked><label for=\"sk-estimator-id-3\" class=\"sk-toggleable__label sk-toggleable__label-arrow\">KNeighborsClassifier</label><div class=\"sk-toggleable__content\"><pre>KNeighborsClassifier(n_neighbors=1)</pre></div></div></div></div></div>"
      ],
      "text/plain": [
       "KNeighborsClassifier(n_neighbors=1)"
      ]
     },
     "execution_count": 21,
     "metadata": {},
     "output_type": "execute_result"
    }
   ],
   "source": [
    "model.fit(train_img, y_train)"
   ]
  },
  {
   "cell_type": "code",
   "execution_count": 22,
   "metadata": {},
   "outputs": [],
   "source": [
    "y_pred = model.predict(test_img)"
   ]
  },
  {
   "cell_type": "code",
   "execution_count": 23,
   "metadata": {},
   "outputs": [
    {
     "name": "stdout",
     "output_type": "stream",
     "text": [
      "Accuracy: 0.3896\n"
     ]
    }
   ],
   "source": [
    "accuracy = accuracy_score(y_test, y_pred)\n",
    "print(\"Accuracy:\", accuracy)"
   ]
  },
  {
   "cell_type": "markdown",
   "metadata": {},
   "source": [
    "NAIVE BAYES"
   ]
  },
  {
   "cell_type": "code",
   "execution_count": 12,
   "metadata": {},
   "outputs": [],
   "source": [
    "import os\n",
    "import math\n",
    "import time\n",
    "from pathlib import Path\n",
    "import pandas as pd\n",
    "import numpy as np\n",
    "from sklearn.decomposition import PCA\n",
    "\n",
    "\n",
    "class NaiveBayes:\n",
    "    def __init__(self):\n",
    "        self.train_datas, self.train_labels, self.test_datas, self.test_labels = (\n",
    "            [],\n",
    "            [],\n",
    "            [],\n",
    "            [],\n",
    "        )\n",
    "        self.prior, self.likelihoods, self.confusionMatrix = [], [], []\n",
    "        self.start, self.end, self.time_use = 0, 0, 0\n",
    "        self.features = 0\n",
    "        self.train_records = 0\n",
    "        self.test_records = 0\n",
    "        self.num_classes = 0\n",
    "        self.features = 0\n",
    "        self.feature_values = 256\n",
    "\n",
    "    def init(self, X_train, y_train, X_test, y_test):\n",
    "        self.train_labels = y_train\n",
    "        self.train_datas = X_train\n",
    "\n",
    "        self.test_labels = y_test\n",
    "        self.test_datas = X_test\n",
    "\n",
    "        self.train_records, self.features = self.train_datas.shape\n",
    "        self.test_records = len(self.test_datas)\n",
    "\n",
    "        self.num_classes = len(np.unique(self.train_labels))\n",
    "\n",
    "        self.confusionMatrix = [[0] * self.num_classes for _ in range(self.num_classes)]\n",
    "\n",
    "    def run(self):\n",
    "        self.start = time.time()\n",
    "        self.train()\n",
    "        self.predict_logarit()\n",
    "        self.end = time.time()\n",
    "        self.time_use = self.end - self.start\n",
    "        print(self.time_use)\n",
    "\n",
    "    def assess(self):\n",
    "        self.CM()\n",
    "\n",
    "    def train(self):\n",
    "        # Priori Probability\n",
    "        self.prior = [0] * self.num_classes\n",
    "\n",
    "        for label in self.train_labels:\n",
    "            self.prior[label] += 1\n",
    "\n",
    "        for i in range(self.num_classes):\n",
    "            self.prior[i] /= self.train_records\n",
    "            # print(f\"priori Probability of {i}: \", self.prior[i])\n",
    "\n",
    "        # Posterior Probability\n",
    "        self.likelihoods = [\n",
    "            [[0] * self.feature_values for _ in range(self.features)]\n",
    "            for _ in range(self.num_classes)\n",
    "        ]\n",
    "        # self.likelihoods = []\n",
    "        # for _ in range(self.num_classes):\n",
    "        #     class_likelihood = []\n",
    "        #     for _ in range(self.features):\n",
    "        #         feature_likelihood = [0] * self.feature_values\n",
    "        #         class_likelihood.append(feature_likelihood)\n",
    "        #     self.likelihoods.append(class_likelihood)\n",
    "        class_counts = [0] * self.num_classes\n",
    "\n",
    "        for i in range(self.train_records):\n",
    "            label = self.train_labels[i]\n",
    "            for j in range(self.features):\n",
    "                index = int(self.train_datas[i][j])\n",
    "                self.likelihoods[label][j][index] += 1\n",
    "            class_counts[label] += 1\n",
    "\n",
    "        for i in range(self.num_classes):\n",
    "            for j in range(self.features):\n",
    "                for k in range(self.feature_values):\n",
    "                    if self.likelihoods[i][j][k] == 0:\n",
    "                        self.likelihoods[i][j][k] = 1e-7\n",
    "                    else:\n",
    "                        self.likelihoods[i][j][k] /= class_counts[i]\n",
    "\n",
    "    def predict_logarit(self):\n",
    "        correct = 0\n",
    "        sum_errors = 0\n",
    "\n",
    "        for i in range(self.test_records):\n",
    "            max_prob = -float(\"inf\")\n",
    "            max_class = -1\n",
    "\n",
    "            for j in range(self.num_classes):\n",
    "                prob = math.log(self.prior[j])\n",
    "                for k in range(self.features):\n",
    "                    index = int(self.test_datas[i][k])\n",
    "                    prob += math.log(self.likelihoods[j][k][index])\n",
    "\n",
    "                if prob > max_prob:\n",
    "                    max_prob = prob\n",
    "                    max_class = j\n",
    "\n",
    "            self.confusionMatrix[self.test_labels[i]][max_class] += 1\n",
    "\n",
    "            if max_class == self.test_labels[i]:\n",
    "                correct += 1\n",
    "            else:\n",
    "                sum_errors += 1\n",
    "\n",
    "        print()\n",
    "        print(\"so ket qua sai:\", sum_errors)\n",
    "        print(\"so ket qua dung:\", correct)\n",
    "        accuracy = correct / (sum_errors + correct)\n",
    "        print(\"Accuracy:\", accuracy)\n",
    "\n",
    "    def CM(self):\n",
    "        print(\"Ground Truth = GT\")\n",
    "        print(\"Predicted Label = PL\")\n",
    "        self.printLine()\n",
    "        print(f\"total= {self.test_records:3d}|\", end=\"\")\n",
    "        for i in range(self.num_classes):\n",
    "            print(f\" PL = {i:2d} |\", end=\"\")\n",
    "        print()\n",
    "        self.printLine()\n",
    "\n",
    "        for i in range(self.num_classes):\n",
    "            print(f\" GT = {i:2d}    |\", end=\"\")\n",
    "            for j in range(self.num_classes):\n",
    "                print(f\"   {self.confusionMatrix[i][j]:4d}  |\", end=\"\")\n",
    "            print()\n",
    "            self.printLine()\n",
    "\n",
    "    def printLine(self):\n",
    "        print(\"------------|\", end=\"\")\n",
    "        for _ in range(self.num_classes):\n",
    "            print(\"---------|\", end=\"\")\n",
    "        print()\n",
    "        \n",
    "    def plot_accuracy_by_label(self):\n",
    "        # Tính tỉ lệ đúng cho từng nhãn\n",
    "        accuracy_by_label = np.diag(self.confusionMatrix) / np.sum(self.confusionMatrix, axis=1)\n",
    "\n",
    "        # Vẽ biểu đồ\n",
    "        plt.figure(figsize=(10, 6))\n",
    "        bars = plt.bar(range(self.num_classes), accuracy_by_label, color='blue')\n",
    "        plt.title('Accuracy by Label')\n",
    "        plt.xlabel('Label')\n",
    "        plt.ylabel('Accuracy')\n",
    "        plt.ylim(0, 1)\n",
    "\n",
    "        # Hiển thị giá trị trên đỉnh mỗi cột\n",
    "        for bar, value in zip(bars, accuracy_by_label):\n",
    "            plt.text(bar.get_x() + bar.get_width() / 2, bar.get_height() + 0.01, f'{value:.2f}', ha='center', va='bottom')\n",
    "\n",
    "        # Đặt tên cho các nhãn trục x\n",
    "        plt.xticks(range(self.num_classes), [str(i) for i in range(self.num_classes)])\n",
    "        \n",
    "        plt.show()"
   ]
  },
  {
   "cell_type": "code",
   "execution_count": 18,
   "metadata": {},
   "outputs": [],
   "source": [
    "test_dt = pd.read_csv(\"mnist_test.csv\")\n",
    "train_dt = pd.read_csv(\"mnist_train.csv\")\n",
    "X_train = train_dt.iloc[:, 1:].values\n",
    "y_train = train_dt.iloc[:, 0].values\n",
    "\n",
    "X_test = test_dt.iloc[:, 1:].values\n",
    "y_test = test_dt.iloc[:, 0].values"
   ]
  },
  {
   "cell_type": "markdown",
   "metadata": {},
   "source": [
    "Remove Attribute with constant value"
   ]
  },
  {
   "cell_type": "code",
   "execution_count": 10,
   "metadata": {},
   "outputs": [],
   "source": [
    "def remove_constant_pixels(train_dt, test_dt):\n",
    "    changing_train_dt = train_dt.loc[:]\n",
    "    changing_test_dt = test_dt.loc[:]\n",
    "    \n",
    "    dropped_pixels = []\n",
    "    for col in train_dt:\n",
    "        if changing_train_dt[col].max() == 0 or changing_train_dt[col].min() == 255:\n",
    "            changing_train_dt.drop(columns=[col], inplace=True)\n",
    "            changing_test_dt.drop(columns=[col], inplace=True)\n",
    "            dropped_pixels.append(col)\n",
    "    # print(\"Constantly black pixels that have been dropped: {}\".format(dropped_pixels_b))\n",
    "    # print(\"\\n Constantly white pixels that have been dropped: {}\".format(dropped_pixels_b))\n",
    "\n",
    "    print(\"Remaining pixels: {}\".format(len(changing_train_dt.columns)))\n",
    "    print(\"Pixels removed: {}\".format(784-len(changing_train_dt.columns)))\n",
    "    \n",
    "    return changing_train_dt, changing_test_dt, dropped_pixels"
   ]
  },
  {
   "cell_type": "code",
   "execution_count": 19,
   "metadata": {},
   "outputs": [
    {
     "name": "stdout",
     "output_type": "stream",
     "text": [
      "Remaining pixels: 718\n",
      "Pixels removed: 66\n"
     ]
    }
   ],
   "source": [
    "X_train, X_test, dropped_pixels = remove_constant_pixels(train_dt, test_dt)"
   ]
  },
  {
   "cell_type": "code",
   "execution_count": 20,
   "metadata": {},
   "outputs": [],
   "source": [
    "X_train = X_train.iloc[:, 1:].values\n",
    "X_test = X_test.iloc[:, 1:].values"
   ]
  },
  {
   "cell_type": "code",
   "execution_count": 21,
   "metadata": {},
   "outputs": [],
   "source": [
    "NB = NaiveBayes()"
   ]
  },
  {
   "cell_type": "code",
   "execution_count": 22,
   "metadata": {},
   "outputs": [],
   "source": [
    "NB.init(X_train, y_train, X_test, y_test)"
   ]
  },
  {
   "cell_type": "code",
   "execution_count": 23,
   "metadata": {},
   "outputs": [
    {
     "data": {
      "text/plain": [
       "array([[0, 0, 0, ..., 0, 0, 0],\n",
       "       [0, 0, 0, ..., 0, 0, 0],\n",
       "       [0, 0, 0, ..., 0, 0, 0],\n",
       "       ...,\n",
       "       [0, 0, 0, ..., 0, 0, 0],\n",
       "       [0, 0, 0, ..., 0, 0, 0],\n",
       "       [0, 0, 0, ..., 0, 0, 0]], dtype=int64)"
      ]
     },
     "execution_count": 23,
     "metadata": {},
     "output_type": "execute_result"
    }
   ],
   "source": [
    "X_train"
   ]
  },
  {
   "cell_type": "code",
   "execution_count": 24,
   "metadata": {},
   "outputs": [
    {
     "data": {
      "text/plain": [
       "(10000, 717)"
      ]
     },
     "execution_count": 24,
     "metadata": {},
     "output_type": "execute_result"
    }
   ],
   "source": [
    "X_test.shape"
   ]
  },
  {
   "cell_type": "code",
   "execution_count": 25,
   "metadata": {},
   "outputs": [
    {
     "name": "stdout",
     "output_type": "stream",
     "text": [
      "train_records:  60000\n",
      "test_records:  10000\n",
      "num_classes:  10\n",
      "features:  717\n",
      "feature_values:  256\n"
     ]
    }
   ],
   "source": [
    "print(\"train_records: \", NB.train_records)\n",
    "print(\"test_records: \", NB.test_records)\n",
    "print(\"num_classes: \", NB.num_classes)\n",
    "print(\"features: \", NB.features)\n",
    "print(\"feature_values: \", NB.feature_values)"
   ]
  },
  {
   "cell_type": "code",
   "execution_count": 35,
   "metadata": {},
   "outputs": [],
   "source": [
    "# self.features = 0\n",
    "# self.train_records = 0\n",
    "# self.test_records = 0\n",
    "# self.num_classes = 0\n",
    "# self.features = 0\n",
    "# self.feature_values = 256"
   ]
  },
  {
   "cell_type": "code",
   "execution_count": 32,
   "metadata": {},
   "outputs": [
    {
     "name": "stdout",
     "output_type": "stream",
     "text": [
      "\n",
      "so ket qua sai: 1607\n",
      "so ket qua dung: 8393\n",
      "Accuracy: 0.8393\n",
      "131.6435990333557\n"
     ]
    }
   ],
   "source": [
    "NB.run()"
   ]
  },
  {
   "cell_type": "code",
   "execution_count": 33,
   "metadata": {},
   "outputs": [
    {
     "name": "stdout",
     "output_type": "stream",
     "text": [
      "Ground Truth = GT\n",
      "Predicted Label = PL\n",
      "------------|---------|---------|---------|---------|---------|---------|---------|---------|---------|---------|\n",
      "total= 10000| PL =  0 | PL =  1 | PL =  2 | PL =  3 | PL =  4 | PL =  5 | PL =  6 | PL =  7 | PL =  8 | PL =  9 |\n",
      "------------|---------|---------|---------|---------|---------|---------|---------|---------|---------|---------|\n",
      " GT =  0    |    881  |      0  |      4  |      5  |      2  |     47  |     16  |      1  |     24  |      0  |\n",
      "------------|---------|---------|---------|---------|---------|---------|---------|---------|---------|---------|\n",
      " GT =  1    |      0  |   1048  |     26  |      6  |      1  |     16  |      5  |      0  |     33  |      0  |\n",
      "------------|---------|---------|---------|---------|---------|---------|---------|---------|---------|---------|\n",
      " GT =  2    |     16  |      4  |    866  |     42  |     15  |      5  |     26  |      7  |     50  |      1  |\n",
      "------------|---------|---------|---------|---------|---------|---------|---------|---------|---------|---------|\n",
      " GT =  3    |      2  |      1  |     39  |    848  |      0  |     28  |      8  |     14  |     44  |     26  |\n",
      "------------|---------|---------|---------|---------|---------|---------|---------|---------|---------|---------|\n",
      " GT =  4    |      3  |      0  |      9  |      0  |    801  |     12  |     19  |      0  |     28  |    110  |\n",
      "------------|---------|---------|---------|---------|---------|---------|---------|---------|---------|---------|\n",
      " GT =  5    |     24  |      1  |     11  |    115  |     20  |    644  |     17  |      8  |     34  |     18  |\n",
      "------------|---------|---------|---------|---------|---------|---------|---------|---------|---------|---------|\n",
      " GT =  6    |     12  |      6  |     27  |      1  |     11  |     38  |    853  |      0  |     10  |      0  |\n",
      "------------|---------|---------|---------|---------|---------|---------|---------|---------|---------|---------|\n",
      " GT =  7    |      1  |     11  |     14  |      3  |     33  |      3  |      0  |    842  |     39  |     82  |\n",
      "------------|---------|---------|---------|---------|---------|---------|---------|---------|---------|---------|\n",
      " GT =  8    |     14  |      3  |     22  |     69  |      8  |     39  |      7  |      7  |    775  |     30  |\n",
      "------------|---------|---------|---------|---------|---------|---------|---------|---------|---------|---------|\n",
      " GT =  9    |      9  |      2  |      5  |      7  |     82  |     12  |      0  |     27  |     30  |    835  |\n",
      "------------|---------|---------|---------|---------|---------|---------|---------|---------|---------|---------|\n"
     ]
    }
   ],
   "source": [
    "NB.CM()"
   ]
  },
  {
   "cell_type": "code",
   "execution_count": 34,
   "metadata": {},
   "outputs": [
    {
     "data": {
      "image/png": "[encoded data removed]",
      "text/plain": [
       "<Figure size 1000x600 with 1 Axes>"
      ]
     },
     "metadata": {},
     "output_type": "display_data"
    }
   ],
   "source": [
    "NB.plot_accuracy_by_label()"
   ]
  },
  {
   "cell_type": "markdown",
   "metadata": {},
   "source": [
    "Test_NB_AccuracyPerLabel_Visualization"
   ]
  },
  {
   "cell_type": "code",
   "execution_count": null,
   "metadata": {},
   "outputs": [],
   "source": [
    "accuracy_by_label = np.diag( NB.confusionMatrix) / np.sum(NB.confusionMatrix, axis=1)\n",
    "\n",
    "# Vẽ biểu đồ\n",
    "plt.figure(figsize=(10, 6))\n",
    "bars = plt.bar(range(NB.num_classes), accuracy_by_label, color='blue')\n",
    "plt.title('Naive Bayes - Accuracy by Label')\n",
    "plt.xlabel('Label')\n",
    "plt.ylabel('Accuracy')\n",
    "plt.ylim(0, 1)\n",
    "\n",
    "# Hiển thị giá trị trên đỉnh mỗi cột\n",
    "for bar, value in zip(bars, accuracy_by_label):\n",
    "    plt.text(bar.get_x() + bar.get_width() / 2, bar.get_height() + 0.01, f'{value:.2f}', ha='center', va='bottom')\n",
    "\n",
    "# Đặt tên cho các nhãn trục x\n",
    "plt.xticks(range(NB.num_classes), [str(i) for i in range(NB.num_classes)])\n",
    "\n",
    "plt.show()"
   ]
  },
  {
   "cell_type": "markdown",
   "metadata": {},
   "source": [
    "KNN_nonePCA_Visualization"
   ]
  },
  {
   "cell_type": "code",
   "execution_count": 49,
   "metadata": {},
   "outputs": [
    {
     "data": {
      "image/png": "[encoded data removed]",
      "text/plain": [
       "<Figure size 1000x600 with 1 Axes>"
      ]
     },
     "metadata": {},
     "output_type": "display_data"
    }
   ],
   "source": [
    "import numpy as np\n",
    "import matplotlib.pyplot as plt\n",
    "\n",
    "# Dữ liệu từ confusion matrix\n",
    "confusion_matrix_data = [\n",
    "    [972, 1, 1, 0, 0, 1, 2, 2, 1, 0],\n",
    "    [0, 1132, 2, 1, 0, 0, 0, 0, 0, 0],\n",
    "    [10, 6, 987, 4, 1, 1, 3, 18, 1, 1],\n",
    "    [1, 1, 7, 954, 1, 23, 1, 8, 6, 8],\n",
    "    [3, 4, 0, 0, 934, 0, 5, 3, 1, 32],\n",
    "    [6, 1, 0, 18, 1, 846, 9, 1, 1, 9],\n",
    "    [5, 3, 0, 0, 5, 3, 941, 0, 1, 0],\n",
    "    [0, 25, 4, 0, 0, 0, 0, 987, 0, 12],\n",
    "    [6, 1, 7, 22, 7, 23, 4, 3, 892, 9],\n",
    "    [6, 4, 2, 5, 14, 3, 1, 16, 3, 955]\n",
    "]\n",
    "\n",
    "# Chuyển đổi thành NumPy array\n",
    "confusion_matrix_data = np.array(confusion_matrix_data)\n",
    "\n",
    "# Tính tỉ lệ đúng cho từng nhãn\n",
    "accuracy_by_label = np.diag(confusion_matrix_data) / np.sum(confusion_matrix_data, axis=1)\n",
    "\n",
    "# Vẽ biểu đồ\n",
    "plt.figure(figsize=(10, 6))\n",
    "bars = plt.bar(range(10), accuracy_by_label, color='blue')\n",
    "plt.title('KNN - Accuracy by Label')\n",
    "plt.xlabel('Label')\n",
    "plt.ylabel('Accuracy')\n",
    "plt.ylim(0, 1)\n",
    "\n",
    "# Hiển thị giá trị trên đỉnh mỗi cột\n",
    "for i, value in enumerate(accuracy_by_label):\n",
    "    plt.text(i, value + 0.01, f'{value:.2f}', ha='center', va='bottom')\n",
    "\n",
    "# Đặt tên cho các nhãn trục x\n",
    "plt.xticks(range(10), [f'PL = {i}' for i in range(10)])\n",
    "plt.show()\n"
   ]
  },
  {
   "cell_type": "markdown",
   "metadata": {},
   "source": [
    "KNN\n"
   ]
  },
  {
   "cell_type": "code",
   "execution_count": 39,
   "metadata": {},
   "outputs": [],
   "source": [
    "import numpy as np\n",
    "from scipy.stats import mode\n",
    "\n",
    "\n",
    "class KNearestNeighbors:\n",
    "    def __init__(self):\n",
    "        self.train_datas, self.train_labels, self.test_datas, self.test_labels = (\n",
    "            [],\n",
    "            [],\n",
    "            [],\n",
    "            [],\n",
    "        )\n",
    "        self.start, self.end, self.time_use = 0, 0, 0\n",
    "        self.features = 0\n",
    "        self.train_records = 0\n",
    "        self.test_records = 0\n",
    "        self.num_classes = 0\n",
    "        self.features = 0\n",
    "        self.op_labels = []\n",
    "        \n",
    "        # self.feature_values = 256\n",
    "\n",
    "    def init(self, X_train, y_train, X_test, y_test):\n",
    "        self.train_labels = y_train\n",
    "        self.train_datas = X_train\n",
    "\n",
    "        self.test_labels = y_test\n",
    "        self.test_datas = X_test\n",
    "\n",
    "        self.train_records, self.features = self.train_datas.shape\n",
    "        self.test_records = len(self.test_datas)\n",
    "\n",
    "        self.num_classes = len(np.unique(self.train_labels))\n",
    "\n",
    "        self.confusionMatrix = [[0] * self.num_classes for _ in range(self.num_classes)]\n",
    "\n",
    "    def eucledianDistance(self, p1, p2):\n",
    "        dist = np.sqrt(np.sum((p1 - p2)**2))\n",
    "        return dist\n",
    "\n",
    "    def predict(self, k, num_samples):\n",
    "        self.test_records = num_samples\n",
    "        for i in range(self.test_records):\n",
    "            distances = np.array([(j, self.eucledianDistance(self.train_datas[j], self.test_datas[i]))\n",
    "                                  for j in range(self.train_records)])\n",
    "            \n",
    "            sorted_indices = np.argsort(distances[:, 1])\n",
    "            \n",
    "            neighbors = sorted_indices[:k]\n",
    "\n",
    "            predicted_label = mode(self.train_labels[neighbors]).mode\n",
    "            # print(\"GT - PL: \", self.test_labels[i], predicted_label)\n",
    "            self.op_labels.append(predicted_label)\n",
    "\n",
    "        return self.op_labels\n",
    "    \n",
    "    def CM(self, k):\n",
    "        labels = len(np.unique(self.train_labels))\n",
    "        corrects = 0\n",
    "\n",
    "        print(f\"with k = {k}\")\n",
    "        for i in range(self.test_records):\n",
    "            GT_label = [j for j, label in enumerate(np.unique(self.train_labels)) if self.test_labels[i] == label][0]\n",
    "            PL_label = [j for j, label in enumerate(np.unique(self.train_labels)) if self.op_labels[i] == label][0]\n",
    "            self.confusionMatrix[GT_label][PL_label] += 1\n",
    "\n",
    "        self.printLine()\n",
    "        print(f\"tt = {self.test_records:5d}|\", end=\"\")\n",
    "        for i in range(labels):\n",
    "            print(f\" PL = {np.unique(self.train_labels)[i]:3d}|\", end=\"\")\n",
    "        print(\"\\n\")\n",
    "        self.printLine()\n",
    "\n",
    "        for i in range(labels):\n",
    "            print(f\" GT = {np.unique(self.train_labels)[i]:3d} |\", end=\"\")\n",
    "            for j in range(labels):\n",
    "                print(f\"    {self.confusionMatrix[i][j]:3d}  |\", end=\"\")\n",
    "            print(\"\\n\")\n",
    "            self.printLine()\n",
    "\n",
    "        corrects = np.sum(np.diag(self.confusionMatrix))\n",
    "        accuracy = corrects / self.test_records\n",
    "        print(f\"accuracy = {accuracy:.2f}\\n\\n\")\n",
    "\n",
    "\n",
    "    def printLine(self):\n",
    "        print(\"----------|\", end=\"\")\n",
    "        for _ in range(len(np.unique(self.train_labels))):\n",
    "            print(\"---------|\", end=\"\")\n",
    "        print(\"\\n\")\n",
    "\n",
    "# distances = list()\n",
    "            \n",
    "#             for j in range(self.train_records):\n",
    "#                 dist = self.eucledianDistance(self.train_datas[j], self.test_datas[i])\n",
    "                \n",
    "#                 # Thêm cả chỉ mục j và distances vào point_dist\n",
    "#                 distances.append((j, dist))\n",
    "            \n",
    "#             distances = np.array(distances)"
   ]
  },
  {
   "cell_type": "code",
   "execution_count": 63,
   "metadata": {},
   "outputs": [],
   "source": [
    "train_dt = pd.read_csv(\"mnist_train.csv\")\n",
    "\n",
    "test_dt = pd.read_csv(\"mnist_test.csv\")\n",
    "\n",
    "X_train = train_dt.iloc[:, 1:].values\n",
    "y_train = train_dt.iloc[:, 0].values\n",
    "\n",
    "X_test = test_dt.iloc[:, 1:].values\n",
    "y_test = test_dt.iloc[:, 0].values"
   ]
  },
  {
   "cell_type": "code",
   "execution_count": 46,
   "metadata": {},
   "outputs": [
    {
     "data": {
      "text/plain": [
       "array([7, 2, 1, ..., 4, 5, 6], dtype=int64)"
      ]
     },
     "execution_count": 46,
     "metadata": {},
     "output_type": "execute_result"
    }
   ],
   "source": [
    "y_test"
   ]
  },
  {
   "cell_type": "code",
   "execution_count": 40,
   "metadata": {},
   "outputs": [],
   "source": [
    "newKNN = KNearestNeighbors()"
   ]
  },
  {
   "cell_type": "code",
   "execution_count": 41,
   "metadata": {},
   "outputs": [],
   "source": [
    "newKNN.init(train_img, y_train, test_img, y_test)"
   ]
  },
  {
   "cell_type": "code",
   "execution_count": 42,
   "metadata": {},
   "outputs": [],
   "source": [
    "# k - num_samples\n",
    "arr = newKNN.predict(1, 100)"
   ]
  },
  {
   "cell_type": "code",
   "execution_count": null,
   "metadata": {},
   "outputs": [],
   "source": [
    "arr"
   ]
  },
  {
   "cell_type": "code",
   "execution_count": 43,
   "metadata": {},
   "outputs": [],
   "source": [
    "misclassified_samples = newKNN.test_datas[arr != newKNN.op_labels]"
   ]
  },
  {
   "cell_type": "code",
   "execution_count": 55,
   "metadata": {},
   "outputs": [
    {
     "name": "stdout",
     "output_type": "stream",
     "text": [
      "Number of misclassified samples: 0\n",
      "Misclassified samples:\n",
      "     Actual  Predicted  Index\n",
      "0         4          9    115\n",
      "1         3          5    195\n",
      "2         9          8    241\n",
      "3         8          5    268\n",
      "4         4          1    300\n",
      "..      ...        ...    ...\n",
      "304       0          6   9879\n",
      "305       5          1   9883\n",
      "306       2          0   9904\n",
      "307       3          9   9905\n",
      "308       5          3   9982\n",
      "\n",
      "[309 rows x 3 columns]\n"
     ]
    }
   ],
   "source": [
    "# arr\n",
    "misclassified_samples = newKNN.test_datas[arr != newKNN.op_labels]\n",
    "misclassified_data = pd.DataFrame({\n",
    "    'Actual': y_test[y_test != y_pred],\n",
    "    'Predicted': y_pred[y_test != y_pred],\n",
    "    # 'Index': y_test[y_test != y_pred].index\n",
    "    'Index': np.where(y_test != y_pred)[0] \n",
    "})\n",
    "# In số lượng mẫu dự đoán sai và hiển thị một số mẫu\n",
    "print(f'Number of misclassified samples: {len(misclassified_samples)}')\n",
    "print('Misclassified samples:')\n",
    "print(misclassified_data)\n"
   ]
  },
  {
   "cell_type": "code",
   "execution_count": 50,
   "metadata": {},
   "outputs": [
    {
     "name": "stderr",
     "output_type": "stream",
     "text": [
      "c:\\Users\\HP\\anaconda3\\Lib\\site-packages\\seaborn\\_oldcore.py:1498: FutureWarning: is_categorical_dtype is deprecated and will be removed in a future version. Use isinstance(dtype, CategoricalDtype) instead\n",
      "  if pd.api.types.is_categorical_dtype(vector):\n",
      "c:\\Users\\HP\\anaconda3\\Lib\\site-packages\\seaborn\\_oldcore.py:1498: FutureWarning: is_categorical_dtype is deprecated and will be removed in a future version. Use isinstance(dtype, CategoricalDtype) instead\n",
      "  if pd.api.types.is_categorical_dtype(vector):\n",
      "c:\\Users\\HP\\anaconda3\\Lib\\site-packages\\seaborn\\_oldcore.py:1498: FutureWarning: is_categorical_dtype is deprecated and will be removed in a future version. Use isinstance(dtype, CategoricalDtype) instead\n",
      "  if pd.api.types.is_categorical_dtype(vector):\n"
     ]
    },
    {
     "data": {
      "image/png": "[encoded data removed]",
      "text/plain": [
       "<Figure size 1200x800 with 1 Axes>"
      ]
     },
     "metadata": {},
     "output_type": "display_data"
    }
   ],
   "source": [
    "import pandas as pd\n",
    "import matplotlib.pyplot as plt\n",
    "import seaborn as sns\n",
    "from sklearn.metrics import confusion_matrix\n",
    "\n",
    "# Lấy dữ liệu mẫu bị phân loại sai\n",
    "# misclassified_samples = newKNN.test_datas[newKNN.test_labels != newKNN.op_labels]\n",
    "\n",
    "# # Tạo DataFrame với thông tin mẫu bị phân loại sai\n",
    "# misclassified_data = pd.DataFrame({\n",
    "#     'Actual': y_test[y_test != y_pred],\n",
    "#     'Predicted': y_pred[y_test != y_pred],\n",
    "#     'Index': y_test[y_test != y_pred].index\n",
    "# })\n",
    "\n",
    "# Tính ma trận nhầm lẫn\n",
    "conf_matrix = confusion_matrix(y_test, y_pred)\n",
    "\n",
    "# Tính tỉ lệ đúng và sai cho từng loại nhãn\n",
    "accuracy_by_label = np.diag(conf_matrix) / np.sum(conf_matrix, axis=1)\n",
    "misclassification_by_label = 1 - accuracy_by_label\n",
    "\n",
    "# Tạo DataFrame từ kết quả\n",
    "results_df = pd.DataFrame({\n",
    "    'Label': range(10),\n",
    "    'Accuracy': accuracy_by_label,\n",
    "    'Misclassification Rate': misclassification_by_label\n",
    "})\n",
    "\n",
    "# Vẽ biểu đồ\n",
    "plt.figure(figsize=(12, 8))\n",
    "\n",
    "# Biểu đồ tỉ lệ đúng\n",
    "sns.barplot(x='Label', y='Accuracy', data=results_df, color='blue', label='Accuracy')\n",
    "for i, value in enumerate(results_df['Accuracy']):\n",
    "    plt.text(i, value + 0.01, f'{value:.2f}', ha='center', va='bottom')\n",
    "\n",
    "# Biểu đồ tỉ lệ sai\n",
    "# sns.barplot(x='Label', y='Misclassification Rate', data=results_df, color='red', label='Misclassification Rate')\n",
    "# for i, value in enumerate(results_df['Misclassification Rate']):\n",
    "#     plt.text(i, value + 0.01, f'{value:.2f}', ha='center', va='bottom')\n",
    "\n",
    "plt.title('KNN - Accuracy and Misclassification Rate by Label')\n",
    "plt.xlabel('Label')\n",
    "plt.ylabel('Rate')\n",
    "plt.legend()\n",
    "plt.show()\n"
   ]
  },
  {
   "cell_type": "code",
   "execution_count": 51,
   "metadata": {},
   "outputs": [
    {
     "data": {
      "text/plain": [
       "array([[ 973,    1,    1,    0,    0,    1,    3,    1,    0,    0],\n",
       "       [   0, 1129,    3,    0,    1,    1,    1,    0,    0,    0],\n",
       "       [   7,    6,  992,    5,    1,    0,    2,   16,    3,    0],\n",
       "       [   0,    1,    2,  970,    1,   19,    0,    7,    7,    3],\n",
       "       [   0,    7,    0,    0,  944,    0,    3,    5,    1,   22],\n",
       "       [   1,    1,    0,   12,    2,  860,    5,    1,    6,    4],\n",
       "       [   4,    2,    0,    0,    3,    5,  944,    0,    0,    0],\n",
       "       [   0,   14,    6,    2,    4,    0,    0,  992,    0,   10],\n",
       "       [   6,    1,    3,   14,    5,   13,    3,    4,  920,    5],\n",
       "       [   2,    5,    1,    6,   10,    5,    1,   11,    1,  967]],\n",
       "      dtype=int64)"
      ]
     },
     "execution_count": 51,
     "metadata": {},
     "output_type": "execute_result"
    }
   ],
   "source": [
    "conf_matrix"
   ]
  },
  {
   "cell_type": "code",
   "execution_count": 60,
   "metadata": {},
   "outputs": [
    {
     "data": {
      "image/png": "[encoded data removed]",
      "text/plain": [
       "<Figure size 640x480 with 1 Axes>"
      ]
     },
     "metadata": {},
     "output_type": "display_data"
    },
    {
     "data": {
      "image/png": "[encoded data removed]",
      "text/plain": [
       "<Figure size 640x480 with 1 Axes>"
      ]
     },
     "metadata": {},
     "output_type": "display_data"
    },
    {
     "data": {
      "image/png": "[encoded data removed]",
      "text/plain": [
       "<Figure size 640x480 with 1 Axes>"
      ]
     },
     "metadata": {},
     "output_type": "display_data"
    },
    {
     "data": {
      "image/png": "[encoded data removed]",
      "text/plain": [
       "<Figure size 640x480 with 1 Axes>"
      ]
     },
     "metadata": {},
     "output_type": "display_data"
    },
    {
     "data": {
      "image/png": "[encoded data removed]",
      "text/plain": [
       "<Figure size 640x480 with 1 Axes>"
      ]
     },
     "metadata": {},
     "output_type": "display_data"
    }
   ],
   "source": [
    "# import matplotlib.pyplot as plt\n",
    "for index, row in misclassified_data.sample(5).iterrows():\n",
    "    actual_label = row['Actual']\n",
    "    predicted_label = row['Predicted']\n",
    "    sample_index = row['Index']\n",
    "    \n",
    "    # Lấy vector dữ liệu của mẫu bị gán nhãn sai\n",
    "    sample_data = X_test[sample_index].reshape(28, 28)\n",
    "    \n",
    "    # Biểu diễn hình ảnh\n",
    "    plt.imshow(sample_data, cmap='gray')\n",
    "    plt.title(f'Actual: {actual_label}, Predicted: {predicted_label}')\n",
    "    plt.show()"
   ]
  },
  {
   "cell_type": "code",
   "execution_count": 59,
   "metadata": {},
   "outputs": [
    {
     "name": "stdout",
     "output_type": "stream",
     "text": [
      "with k = 1\n",
      "----------|---------|---------|---------|---------|---------|---------|---------|---------|---------|---------|\n",
      "\n",
      "tt =   100| PL =   0| PL =   1| PL =   2| PL =   3| PL =   4| PL =   5| PL =   6| PL =   7| PL =   8| PL =   9|\n",
      "\n",
      "----------|---------|---------|---------|---------|---------|---------|---------|---------|---------|---------|\n",
      "\n",
      " GT =   0 |      6  |      0  |      0  |      0  |      0  |      1  |      1  |      0  |      0  |      0  |\n",
      "\n",
      "----------|---------|---------|---------|---------|---------|---------|---------|---------|---------|---------|\n",
      "\n",
      " GT =   1 |      0  |     11  |      0  |      0  |      0  |      0  |      0  |      2  |      0  |      1  |\n",
      "\n",
      "----------|---------|---------|---------|---------|---------|---------|---------|---------|---------|---------|\n",
      "\n",
      " GT =   2 |      0  |      0  |      3  |      1  |      0  |      1  |      1  |      0  |      2  |      0  |\n",
      "\n",
      "----------|---------|---------|---------|---------|---------|---------|---------|---------|---------|---------|\n",
      "\n",
      " GT =   3 |      0  |      1  |      0  |      4  |      0  |      1  |      0  |      0  |      5  |      0  |\n",
      "\n",
      "----------|---------|---------|---------|---------|---------|---------|---------|---------|---------|---------|\n",
      "\n",
      " GT =   4 |      0  |      0  |      0  |      0  |      3  |      0  |      1  |      5  |      0  |      5  |\n",
      "\n",
      "----------|---------|---------|---------|---------|---------|---------|---------|---------|---------|---------|\n",
      "\n",
      " GT =   5 |      1  |      0  |      1  |      2  |      0  |      1  |      0  |      1  |      1  |      0  |\n",
      "\n",
      "----------|---------|---------|---------|---------|---------|---------|---------|---------|---------|---------|\n",
      "\n",
      " GT =   6 |      1  |      0  |      0  |      0  |      0  |      1  |      1  |      0  |      6  |      1  |\n",
      "\n",
      "----------|---------|---------|---------|---------|---------|---------|---------|---------|---------|---------|\n",
      "\n",
      " GT =   7 |      0  |      0  |      2  |      0  |      4  |      0  |      0  |      5  |      0  |      4  |\n",
      "\n",
      "----------|---------|---------|---------|---------|---------|---------|---------|---------|---------|---------|\n",
      "\n",
      " GT =   8 |      0  |      0  |      0  |      0  |      0  |      1  |      1  |      0  |      0  |      0  |\n",
      "\n",
      "----------|---------|---------|---------|---------|---------|---------|---------|---------|---------|---------|\n",
      "\n",
      " GT =   9 |      0  |      0  |      1  |      0  |      0  |      0  |      1  |      4  |      1  |      4  |\n",
      "\n",
      "----------|---------|---------|---------|---------|---------|---------|---------|---------|---------|---------|\n",
      "\n",
      "accuracy = 0.38\n",
      "\n",
      "\n"
     ]
    }
   ],
   "source": [
    "newKNN.CM(1)\n"
   ]
  }
 ],
 "metadata": {
  "kernelspec": {
   "display_name": "base",
   "language": "python",
   "name": "python3"
  },
  "language_info": {
   "codemirror_mode": {
    "name": "ipython",
    "version": 3
   },
   "file_extension": ".py",
   "mimetype": "text/x-python",
   "name": "python",
   "nbconvert_exporter": "python",
   "pygments_lexer": "ipython3",
   "version": "3.11.5"
  }
 },
 "nbformat": 4,
 "nbformat_minor": 2
}
